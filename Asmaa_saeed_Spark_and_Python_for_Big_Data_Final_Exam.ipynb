{
  "cells": [
    {
      "cell_type": "markdown",
      "metadata": {
        "id": "view-in-github",
        "colab_type": "text"
      },
      "source": [
        "<a href=\"https://colab.research.google.com/github/Asmaasa3d/Pyspark/blob/main/Asmaa_saeed_Spark_and_Python_for_Big_Data_Final_Exam.ipynb\" target=\"_parent\"><img src=\"https://colab.research.google.com/assets/colab-badge.svg\" alt=\"Open In Colab\"/></a>"
      ]
    },
    {
      "cell_type": "markdown",
      "id": "fa486f23",
      "metadata": {
        "id": "fa486f23"
      },
      "source": [
        "![image.png](attachment:image.png)"
      ]
    },
    {
      "cell_type": "markdown",
      "id": "abbf1e33",
      "metadata": {
        "id": "abbf1e33"
      },
      "source": [
        "##### **Good luck with taking your exam. Keep working and make your dreams all come true. Seeing the results of all of your hard work will make this struggle worth it. We’re all thinking of you.** \n",
        "<b><font color='blue'>AI-PRO Spark Team ITI</font></b>"
      ]
    },
    {
      "cell_type": "markdown",
      "id": "c9da32d6",
      "metadata": {
        "id": "c9da32d6"
      },
      "source": [
        "# NLP Using PySpark"
      ]
    },
    {
      "cell_type": "markdown",
      "id": "8326ba88",
      "metadata": {
        "id": "8326ba88"
      },
      "source": [
        "## Objective:\n",
        "- The objective from this project is to create a <b>Spam filter using NaiveBayes classifier</b>.\n",
        "- It is required to obtain <b>f1_scored > 0.9</b>.\n",
        "- We'll use a dataset from UCI Repository. SMS Spam Detection: https://archive.ics.uci.edu/ml/datasets/SMS+Spam+Collection\n",
        "- Data is also provided for you in the assignment (you do not have to download it)."
      ]
    },
    {
      "cell_type": "markdown",
      "id": "6971f788",
      "metadata": {
        "id": "6971f788"
      },
      "source": [
        "## To perform this task follow the following guiding steps:"
      ]
    },
    {
      "cell_type": "markdown",
      "id": "e31bc851",
      "metadata": {
        "id": "e31bc851"
      },
      "source": [
        "### Create a spark session and import the required libraries"
      ]
    },
    {
      "cell_type": "code",
      "source": [
        "!pip install pyspark"
      ],
      "metadata": {
        "colab": {
          "base_uri": "https://localhost:8080/"
        },
        "id": "dy5asqbggw9b",
        "outputId": "0e47dcf3-8893-4166-943f-b8a433b18cd5"
      },
      "id": "dy5asqbggw9b",
      "execution_count": null,
      "outputs": [
        {
          "output_type": "stream",
          "name": "stdout",
          "text": [
            "Looking in indexes: https://pypi.org/simple, https://us-python.pkg.dev/colab-wheels/public/simple/\n",
            "Collecting pyspark\n",
            "  Downloading pyspark-3.3.0.tar.gz (281.3 MB)\n",
            "\u001b[K     |████████████████████████████████| 281.3 MB 44 kB/s \n",
            "\u001b[?25hCollecting py4j==0.10.9.5\n",
            "  Downloading py4j-0.10.9.5-py2.py3-none-any.whl (199 kB)\n",
            "\u001b[K     |████████████████████████████████| 199 kB 51.0 MB/s \n",
            "\u001b[?25hBuilding wheels for collected packages: pyspark\n",
            "  Building wheel for pyspark (setup.py) ... \u001b[?25l\u001b[?25hdone\n",
            "  Created wheel for pyspark: filename=pyspark-3.3.0-py2.py3-none-any.whl size=281764026 sha256=cac38f954048e79daa93f204f23bd89141a67f2a4a98c152a74819cb30e22538\n",
            "  Stored in directory: /root/.cache/pip/wheels/7a/8e/1b/f73a52650d2e5f337708d9f6a1750d451a7349a867f928b885\n",
            "Successfully built pyspark\n",
            "Installing collected packages: py4j, pyspark\n",
            "Successfully installed py4j-0.10.9.5 pyspark-3.3.0\n"
          ]
        }
      ]
    },
    {
      "cell_type": "code",
      "execution_count": null,
      "id": "dcf86e46",
      "metadata": {
        "id": "dcf86e46"
      },
      "outputs": [],
      "source": [
        "from pyspark.sql import SparkSession\n",
        "spark=SparkSession.builder.appName('Final_Exam').getOrCreate()"
      ]
    },
    {
      "cell_type": "code",
      "source": [
        ""
      ],
      "metadata": {
        "id": "NPcnDoKBg-b9"
      },
      "id": "NPcnDoKBg-b9",
      "execution_count": null,
      "outputs": []
    },
    {
      "cell_type": "markdown",
      "id": "90c7df9e",
      "metadata": {
        "id": "90c7df9e"
      },
      "source": [
        "### Read the readme file to learn more about the data"
      ]
    },
    {
      "cell_type": "markdown",
      "id": "2d00718f",
      "metadata": {
        "id": "2d00718f"
      },
      "source": [
        "### Read the data into a DataFrame"
      ]
    },
    {
      "cell_type": "code",
      "source": [
        ""
      ],
      "metadata": {
        "id": "HB2QuhbJhTUy"
      },
      "id": "HB2QuhbJhTUy",
      "execution_count": null,
      "outputs": []
    },
    {
      "cell_type": "code",
      "execution_count": null,
      "id": "29914cf1",
      "metadata": {
        "id": "29914cf1"
      },
      "outputs": [],
      "source": [
        "df=spark.read.csv(\"/content/SMSSpamCollection.csv\",inferSchema=True,sep='\\t')"
      ]
    },
    {
      "cell_type": "code",
      "source": [
        "df.show()"
      ],
      "metadata": {
        "colab": {
          "base_uri": "https://localhost:8080/"
        },
        "id": "6EnoUlf-hhnt",
        "outputId": "d8fd8d41-3927-4d95-86bd-077f3f66a1bd"
      },
      "id": "6EnoUlf-hhnt",
      "execution_count": null,
      "outputs": [
        {
          "output_type": "stream",
          "name": "stdout",
          "text": [
            "+----+--------------------+\n",
            "| _c0|                 _c1|\n",
            "+----+--------------------+\n",
            "| ham|Go until jurong p...|\n",
            "| ham|Ok lar... Joking ...|\n",
            "|spam|Free entry in 2 a...|\n",
            "| ham|U dun say so earl...|\n",
            "| ham|Nah I don't think...|\n",
            "|spam|FreeMsg Hey there...|\n",
            "| ham|Even my brother i...|\n",
            "| ham|As per your reque...|\n",
            "|spam|WINNER!! As a val...|\n",
            "|spam|Had your mobile 1...|\n",
            "| ham|I'm gonna be home...|\n",
            "|spam|SIX chances to wi...|\n",
            "|spam|URGENT! You have ...|\n",
            "| ham|I've been searchi...|\n",
            "| ham|I HAVE A DATE ON ...|\n",
            "|spam|XXXMobileMovieClu...|\n",
            "| ham|Oh k...i'm watchi...|\n",
            "| ham|Eh u remember how...|\n",
            "| ham|Fine if thats th...|\n",
            "|spam|England v Macedon...|\n",
            "+----+--------------------+\n",
            "only showing top 20 rows\n",
            "\n"
          ]
        }
      ]
    },
    {
      "cell_type": "markdown",
      "id": "182cd7f6",
      "metadata": {
        "id": "182cd7f6"
      },
      "source": [
        "### Print the schema"
      ]
    },
    {
      "cell_type": "code",
      "source": [
        "df.printSchema()"
      ],
      "metadata": {
        "colab": {
          "base_uri": "https://localhost:8080/"
        },
        "id": "dJ1Ahjx5hxTK",
        "outputId": "2a67651a-3966-48bb-f953-ebfca94c16db"
      },
      "id": "dJ1Ahjx5hxTK",
      "execution_count": null,
      "outputs": [
        {
          "output_type": "stream",
          "name": "stdout",
          "text": [
            "root\n",
            " |-- _c0: string (nullable = true)\n",
            " |-- _c1: string (nullable = true)\n",
            "\n"
          ]
        }
      ]
    },
    {
      "cell_type": "code",
      "execution_count": null,
      "id": "b52706b9",
      "metadata": {
        "id": "b52706b9",
        "outputId": "e5df6f9c-886f-45ce-e422-0615729f1206"
      },
      "outputs": [
        {
          "name": "stdout",
          "output_type": "stream",
          "text": [
            "root\n",
            " |-- _c0: string (nullable = true)\n",
            " |-- _c1: string (nullable = true)\n",
            "\n"
          ]
        }
      ],
      "source": [
        ""
      ]
    },
    {
      "cell_type": "markdown",
      "id": "2b90cce7",
      "metadata": {
        "id": "2b90cce7"
      },
      "source": [
        "### Rename the first column to 'class' and second column to 'text'"
      ]
    },
    {
      "cell_type": "code",
      "source": [
        "df2=df.withColumnRenamed('_c0','class').withColumnRenamed('_c1','text')"
      ],
      "metadata": {
        "id": "hj0AwBMvh1Qg"
      },
      "id": "hj0AwBMvh1Qg",
      "execution_count": null,
      "outputs": []
    },
    {
      "cell_type": "code",
      "source": [
        "df2.printSchema()"
      ],
      "metadata": {
        "colab": {
          "base_uri": "https://localhost:8080/"
        },
        "id": "akyOVxwqiBTq",
        "outputId": "f9477a0a-7c78-4d85-c401-342bf9ee7c7c"
      },
      "id": "akyOVxwqiBTq",
      "execution_count": null,
      "outputs": [
        {
          "output_type": "stream",
          "name": "stdout",
          "text": [
            "root\n",
            " |-- class: string (nullable = true)\n",
            " |-- text: string (nullable = true)\n",
            "\n"
          ]
        }
      ]
    },
    {
      "cell_type": "code",
      "execution_count": null,
      "id": "f1a88df6",
      "metadata": {
        "scrolled": false,
        "id": "f1a88df6"
      },
      "outputs": [],
      "source": [
        ""
      ]
    },
    {
      "cell_type": "code",
      "execution_count": null,
      "id": "62a544fc",
      "metadata": {
        "id": "62a544fc"
      },
      "outputs": [],
      "source": [
        ""
      ]
    },
    {
      "cell_type": "markdown",
      "id": "a3e798d0",
      "metadata": {
        "id": "a3e798d0"
      },
      "source": [
        "### Show the first 10 rows from the dataframe\n",
        "- Show once with truncate=True and once with truncate=False"
      ]
    },
    {
      "cell_type": "code",
      "source": [
        "df2.show(10,truncate=True)"
      ],
      "metadata": {
        "colab": {
          "base_uri": "https://localhost:8080/"
        },
        "id": "pqVikNEIiFa8",
        "outputId": "451f0b77-1dd9-4fc6-bc8b-8477e8ac7cb1"
      },
      "id": "pqVikNEIiFa8",
      "execution_count": null,
      "outputs": [
        {
          "output_type": "stream",
          "name": "stdout",
          "text": [
            "+-----+--------------------+\n",
            "|class|                text|\n",
            "+-----+--------------------+\n",
            "|  ham|Go until jurong p...|\n",
            "|  ham|Ok lar... Joking ...|\n",
            "| spam|Free entry in 2 a...|\n",
            "|  ham|U dun say so earl...|\n",
            "|  ham|Nah I don't think...|\n",
            "| spam|FreeMsg Hey there...|\n",
            "|  ham|Even my brother i...|\n",
            "|  ham|As per your reque...|\n",
            "| spam|WINNER!! As a val...|\n",
            "| spam|Had your mobile 1...|\n",
            "+-----+--------------------+\n",
            "only showing top 10 rows\n",
            "\n"
          ]
        }
      ]
    },
    {
      "cell_type": "code",
      "source": [
        "df2.show(10,truncate=False)"
      ],
      "metadata": {
        "colab": {
          "base_uri": "https://localhost:8080/"
        },
        "id": "WsgMxG0jiG7k",
        "outputId": "deaa3c63-d6d6-43da-fa0e-7010db24a912"
      },
      "id": "WsgMxG0jiG7k",
      "execution_count": null,
      "outputs": [
        {
          "output_type": "stream",
          "name": "stdout",
          "text": [
            "+-----+----------------------------------------------------------------------------------------------------------------------------------------------------------------+\n",
            "|class|text                                                                                                                                                            |\n",
            "+-----+----------------------------------------------------------------------------------------------------------------------------------------------------------------+\n",
            "|ham  |Go until jurong point, crazy.. Available only in bugis n great world la e buffet... Cine there got amore wat...                                                 |\n",
            "|ham  |Ok lar... Joking wif u oni...                                                                                                                                   |\n",
            "|spam |Free entry in 2 a wkly comp to win FA Cup final tkts 21st May 2005. Text FA to 87121 to receive entry question(std txt rate)T&C's apply 08452810075over18's     |\n",
            "|ham  |U dun say so early hor... U c already then say...                                                                                                               |\n",
            "|ham  |Nah I don't think he goes to usf, he lives around here though                                                                                                   |\n",
            "|spam |FreeMsg Hey there darling it's been 3 week's now and no word back! I'd like some fun you up for it still? Tb ok! XxX std chgs to send, £1.50 to rcv             |\n",
            "|ham  |Even my brother is not like to speak with me. They treat me like aids patent.                                                                                   |\n",
            "|ham  |As per your request 'Melle Melle (Oru Minnaminunginte Nurungu Vettam)' has been set as your callertune for all Callers. Press *9 to copy your friends Callertune|\n",
            "|spam |WINNER!! As a valued network customer you have been selected to receivea £900 prize reward! To claim call 09061701461. Claim code KL341. Valid 12 hours only.   |\n",
            "|spam |Had your mobile 11 months or more? U R entitled to Update to the latest colour mobiles with camera for Free! Call The Mobile Update Co FREE on 08002986030      |\n",
            "+-----+----------------------------------------------------------------------------------------------------------------------------------------------------------------+\n",
            "only showing top 10 rows\n",
            "\n"
          ]
        }
      ]
    },
    {
      "cell_type": "markdown",
      "id": "2fe744a9",
      "metadata": {
        "id": "2fe744a9"
      },
      "source": [
        "## Clean and Prepare the Data"
      ]
    },
    {
      "cell_type": "markdown",
      "id": "4d693167",
      "metadata": {
        "id": "4d693167"
      },
      "source": [
        "### Create a new feature column contains the length of the text column"
      ]
    },
    {
      "cell_type": "code",
      "source": [
        "from pyspark.sql.functions import udf\n",
        "from pyspark.sql.types import IntegerType\n",
        "text_len=udf(lambda x :len(x),IntegerType())\n"
      ],
      "metadata": {
        "id": "-hwXkFsLie8J"
      },
      "id": "-hwXkFsLie8J",
      "execution_count": null,
      "outputs": []
    },
    {
      "cell_type": "code",
      "execution_count": null,
      "id": "5424a0cb",
      "metadata": {
        "id": "5424a0cb"
      },
      "outputs": [],
      "source": [
        "df3=df2.withColumn('length',text_len('text'))"
      ]
    },
    {
      "cell_type": "code",
      "source": [
        ""
      ],
      "metadata": {
        "id": "l5J9D8_ajVix"
      },
      "id": "l5J9D8_ajVix",
      "execution_count": null,
      "outputs": []
    },
    {
      "cell_type": "code",
      "source": [
        ""
      ],
      "metadata": {
        "id": "dsD3Ew75jQxV"
      },
      "id": "dsD3Ew75jQxV",
      "execution_count": null,
      "outputs": []
    },
    {
      "cell_type": "markdown",
      "id": "78ea2de6",
      "metadata": {
        "id": "78ea2de6"
      },
      "source": [
        "### Show the new dataframe"
      ]
    },
    {
      "cell_type": "code",
      "source": [
        "df3.show()"
      ],
      "metadata": {
        "colab": {
          "base_uri": "https://localhost:8080/"
        },
        "id": "6hwWI2jIjQ0S",
        "outputId": "54c0d1fc-5df3-4fa4-8ff2-44acb5fed173"
      },
      "id": "6hwWI2jIjQ0S",
      "execution_count": null,
      "outputs": [
        {
          "output_type": "stream",
          "name": "stdout",
          "text": [
            "+-----+--------------------+------+\n",
            "|class|                text|length|\n",
            "+-----+--------------------+------+\n",
            "|  ham|Go until jurong p...|   111|\n",
            "|  ham|Ok lar... Joking ...|    29|\n",
            "| spam|Free entry in 2 a...|   155|\n",
            "|  ham|U dun say so earl...|    49|\n",
            "|  ham|Nah I don't think...|    61|\n",
            "| spam|FreeMsg Hey there...|   147|\n",
            "|  ham|Even my brother i...|    77|\n",
            "|  ham|As per your reque...|   160|\n",
            "| spam|WINNER!! As a val...|   157|\n",
            "| spam|Had your mobile 1...|   154|\n",
            "|  ham|I'm gonna be home...|   109|\n",
            "| spam|SIX chances to wi...|   136|\n",
            "| spam|URGENT! You have ...|   155|\n",
            "|  ham|I've been searchi...|   196|\n",
            "|  ham|I HAVE A DATE ON ...|    35|\n",
            "| spam|XXXMobileMovieClu...|   149|\n",
            "|  ham|Oh k...i'm watchi...|    26|\n",
            "|  ham|Eh u remember how...|    81|\n",
            "|  ham|Fine if thats th...|    56|\n",
            "| spam|England v Macedon...|   155|\n",
            "+-----+--------------------+------+\n",
            "only showing top 20 rows\n",
            "\n"
          ]
        }
      ]
    },
    {
      "cell_type": "markdown",
      "id": "692e37a6",
      "metadata": {
        "id": "692e37a6"
      },
      "source": [
        "### Get the average text length for each class (give alias name to the average length column)"
      ]
    },
    {
      "cell_type": "code",
      "source": [
        "import pyspark.sql.functions as fn"
      ],
      "metadata": {
        "id": "9xhEgPvIjjQu"
      },
      "id": "9xhEgPvIjjQu",
      "execution_count": null,
      "outputs": []
    },
    {
      "cell_type": "code",
      "source": [
        "df3.groupBy('class').agg(fn.avg('length').alias('Avg. Lenght')).show()"
      ],
      "metadata": {
        "colab": {
          "base_uri": "https://localhost:8080/"
        },
        "id": "Ioa8aSPljYgo",
        "outputId": "fbdb33d9-28e5-4187-b676-363a7c364dea"
      },
      "id": "Ioa8aSPljYgo",
      "execution_count": null,
      "outputs": [
        {
          "output_type": "stream",
          "name": "stdout",
          "text": [
            "+-----+-----------------+\n",
            "|class|      Avg. Lenght|\n",
            "+-----+-----------------+\n",
            "|  ham|71.45431945307645|\n",
            "| spam|138.6706827309237|\n",
            "+-----+-----------------+\n",
            "\n"
          ]
        }
      ]
    },
    {
      "cell_type": "code",
      "source": [
        ""
      ],
      "metadata": {
        "id": "U0-ZCyZzjYR1"
      },
      "id": "U0-ZCyZzjYR1",
      "execution_count": null,
      "outputs": []
    },
    {
      "cell_type": "code",
      "execution_count": null,
      "id": "5c32727d",
      "metadata": {
        "id": "5c32727d",
        "outputId": "76e1c129-4d50-400f-ca0d-7c9e22211cd4"
      },
      "outputs": [
        {
          "name": "stdout",
          "output_type": "stream",
          "text": [
            "+-----+-----------------+\n",
            "|class|      Avg. Lenght|\n",
            "+-----+-----------------+\n",
            "|  ham|71.45431945307645|\n",
            "| spam|138.6706827309237|\n",
            "+-----+-----------------+\n",
            "\n"
          ]
        }
      ],
      "source": [
        ""
      ]
    },
    {
      "cell_type": "markdown",
      "id": "d5e101af",
      "metadata": {
        "id": "d5e101af"
      },
      "source": [
        "## Feature Transformations"
      ]
    },
    {
      "cell_type": "markdown",
      "id": "838ad9dd",
      "metadata": {
        "id": "838ad9dd"
      },
      "source": [
        "### In this part you transform you raw text in to tf_idf model :\n",
        "- For more information about TF-IDF check the following link: <b>(Not needed for the test)</b>\n",
        "https://en.wikipedia.org/wiki/Tf%E2%80%93idf"
      ]
    },
    {
      "cell_type": "markdown",
      "id": "225067d5",
      "metadata": {
        "id": "225067d5"
      },
      "source": [
        "### Perform the following steps to obtain TF-IDF:\n",
        "1. Import the required transformers/estimators for the subsequent steps.\n",
        "2. Create a <b>Tokenizer</b> from the text column.\n",
        "3. Create a <b>StopWordsRemover</b> to remove the <b>stop words</b> from the column obtained from the <b>Tokenizer</b>.\n",
        "4. Create a <b>CountVectorizer</b> after removing the <b>stop words</b>.\n",
        "5. Create the <b>TF-IDF</b> from the <b>CountVectorizer</b>."
      ]
    },
    {
      "cell_type": "code",
      "source": [
        "from pyspark.ml.feature import Tokenizer,StopWordsRemover,CountVectorizer,IDF\n"
      ],
      "metadata": {
        "id": "bzu_6mbCkRNi"
      },
      "id": "bzu_6mbCkRNi",
      "execution_count": null,
      "outputs": []
    },
    {
      "cell_type": "code",
      "source": [
        "tokenizer = Tokenizer(outputCol=\"words\")\n",
        "\n",
        "tokenizer.setInputCol(\"text\")\n",
        "\n"
      ],
      "metadata": {
        "colab": {
          "base_uri": "https://localhost:8080/"
        },
        "id": "1p14O8PfkRJ4",
        "outputId": "5019aed0-d32d-40ca-f981-94fe5a242505"
      },
      "id": "1p14O8PfkRJ4",
      "execution_count": null,
      "outputs": [
        {
          "output_type": "execute_result",
          "data": {
            "text/plain": [
              "Tokenizer_cdefa594d569"
            ]
          },
          "metadata": {},
          "execution_count": 25
        }
      ]
    },
    {
      "cell_type": "code",
      "execution_count": null,
      "id": "6a4eebf8",
      "metadata": {
        "id": "6a4eebf8",
        "colab": {
          "base_uri": "https://localhost:8080/"
        },
        "outputId": "81647961-ef8d-47e1-b682-621469f3cdab"
      },
      "outputs": [
        {
          "output_type": "stream",
          "name": "stdout",
          "text": [
            "+-----+--------------------+------+--------------------+\n",
            "|class|                text|length|               words|\n",
            "+-----+--------------------+------+--------------------+\n",
            "|  ham|Go until jurong p...|   111|[go, until, juron...|\n",
            "|  ham|Ok lar... Joking ...|    29|[ok, lar..., joki...|\n",
            "| spam|Free entry in 2 a...|   155|[free, entry, in,...|\n",
            "|  ham|U dun say so earl...|    49|[u, dun, say, so,...|\n",
            "|  ham|Nah I don't think...|    61|[nah, i, don't, t...|\n",
            "| spam|FreeMsg Hey there...|   147|[freemsg, hey, th...|\n",
            "|  ham|Even my brother i...|    77|[even, my, brothe...|\n",
            "|  ham|As per your reque...|   160|[as, per, your, r...|\n",
            "| spam|WINNER!! As a val...|   157|[winner!!, as, a,...|\n",
            "| spam|Had your mobile 1...|   154|[had, your, mobil...|\n",
            "|  ham|I'm gonna be home...|   109|[i'm, gonna, be, ...|\n",
            "| spam|SIX chances to wi...|   136|[six, chances, to...|\n",
            "| spam|URGENT! You have ...|   155|[urgent!, you, ha...|\n",
            "|  ham|I've been searchi...|   196|[i've, been, sear...|\n",
            "|  ham|I HAVE A DATE ON ...|    35|[i, have, a, date...|\n",
            "| spam|XXXMobileMovieClu...|   149|[xxxmobilemoviecl...|\n",
            "|  ham|Oh k...i'm watchi...|    26|[oh, k...i'm, wat...|\n",
            "|  ham|Eh u remember how...|    81|[eh, u, remember,...|\n",
            "|  ham|Fine if thats th...|    56|[fine, if, thats...|\n",
            "| spam|England v Macedon...|   155|[england, v, mace...|\n",
            "+-----+--------------------+------+--------------------+\n",
            "only showing top 20 rows\n",
            "\n"
          ]
        }
      ],
      "source": [
        "tokenizer.transform(df3).show()"
      ]
    },
    {
      "cell_type": "code",
      "source": [
        "df4=tokenizer.transform(df3)"
      ],
      "metadata": {
        "id": "KaP45jtbmQP8"
      },
      "id": "KaP45jtbmQP8",
      "execution_count": null,
      "outputs": []
    },
    {
      "cell_type": "code",
      "source": [
        "import nltk\n",
        "nltk.download('stopwords')"
      ],
      "metadata": {
        "colab": {
          "base_uri": "https://localhost:8080/"
        },
        "id": "bxrKUjGRlpac",
        "outputId": "48ca9072-86d0-4986-8471-86dd0d1a2e20"
      },
      "id": "bxrKUjGRlpac",
      "execution_count": null,
      "outputs": [
        {
          "output_type": "stream",
          "name": "stderr",
          "text": [
            "[nltk_data] Downloading package stopwords to /root/nltk_data...\n",
            "[nltk_data]   Unzipping corpora/stopwords.zip.\n"
          ]
        },
        {
          "output_type": "execute_result",
          "data": {
            "text/plain": [
              "True"
            ]
          },
          "metadata": {},
          "execution_count": 28
        }
      ]
    },
    {
      "cell_type": "code",
      "source": [
        "from nltk.corpus import stopwords\n",
        "stopwords.words('english')"
      ],
      "metadata": {
        "id": "5O3HujhSlgjH"
      },
      "id": "5O3HujhSlgjH",
      "execution_count": null,
      "outputs": []
    },
    {
      "cell_type": "code",
      "source": [
        "remover = StopWordsRemover(stopWords=stopwords.words('english'),inputCol='words',outputCol='ham_words')\n"
      ],
      "metadata": {
        "id": "nQ53KqM7levm"
      },
      "id": "nQ53KqM7levm",
      "execution_count": null,
      "outputs": []
    },
    {
      "cell_type": "code",
      "source": [
        "remover.transform(df4).show()"
      ],
      "metadata": {
        "colab": {
          "base_uri": "https://localhost:8080/"
        },
        "id": "SBeRMyUvlesN",
        "outputId": "0b7da49e-308a-49c7-ceb8-91750fb09b4d"
      },
      "id": "SBeRMyUvlesN",
      "execution_count": null,
      "outputs": [
        {
          "output_type": "stream",
          "name": "stdout",
          "text": [
            "+-----+--------------------+------+--------------------+--------------------+\n",
            "|class|                text|length|               words|           ham_words|\n",
            "+-----+--------------------+------+--------------------+--------------------+\n",
            "|  ham|Go until jurong p...|   111|[go, until, juron...|[go, jurong, poin...|\n",
            "|  ham|Ok lar... Joking ...|    29|[ok, lar..., joki...|[ok, lar..., joki...|\n",
            "| spam|Free entry in 2 a...|   155|[free, entry, in,...|[free, entry, 2, ...|\n",
            "|  ham|U dun say so earl...|    49|[u, dun, say, so,...|[u, dun, say, ear...|\n",
            "|  ham|Nah I don't think...|    61|[nah, i, don't, t...|[nah, think, goes...|\n",
            "| spam|FreeMsg Hey there...|   147|[freemsg, hey, th...|[freemsg, hey, da...|\n",
            "|  ham|Even my brother i...|    77|[even, my, brothe...|[even, brother, l...|\n",
            "|  ham|As per your reque...|   160|[as, per, your, r...|[per, request, 'm...|\n",
            "| spam|WINNER!! As a val...|   157|[winner!!, as, a,...|[winner!!, valued...|\n",
            "| spam|Had your mobile 1...|   154|[had, your, mobil...|[mobile, 11, mont...|\n",
            "|  ham|I'm gonna be home...|   109|[i'm, gonna, be, ...|[i'm, gonna, home...|\n",
            "| spam|SIX chances to wi...|   136|[six, chances, to...|[six, chances, wi...|\n",
            "| spam|URGENT! You have ...|   155|[urgent!, you, ha...|[urgent!, 1, week...|\n",
            "|  ham|I've been searchi...|   196|[i've, been, sear...|[i've, searching,...|\n",
            "|  ham|I HAVE A DATE ON ...|    35|[i, have, a, date...|[date, sunday, wi...|\n",
            "| spam|XXXMobileMovieClu...|   149|[xxxmobilemoviecl...|[xxxmobilemoviecl...|\n",
            "|  ham|Oh k...i'm watchi...|    26|[oh, k...i'm, wat...|[oh, k...i'm, wat...|\n",
            "|  ham|Eh u remember how...|    81|[eh, u, remember,...|[eh, u, remember,...|\n",
            "|  ham|Fine if thats th...|    56|[fine, if, thats...|[fine, thats, wa...|\n",
            "| spam|England v Macedon...|   155|[england, v, mace...|[england, v, mace...|\n",
            "+-----+--------------------+------+--------------------+--------------------+\n",
            "only showing top 20 rows\n",
            "\n"
          ]
        }
      ]
    },
    {
      "cell_type": "code",
      "source": [
        "df5=remover.transform(df4)"
      ],
      "metadata": {
        "id": "X8rzgcmhlepT"
      },
      "id": "X8rzgcmhlepT",
      "execution_count": null,
      "outputs": []
    },
    {
      "cell_type": "code",
      "source": [
        "cv = CountVectorizer(inputCol='ham_words',outputCol='vectors')\n",
        "\n",
        "model = cv.fit(df5)\n",
        "\n",
        "model.transform(df5).show(truncate=False)"
      ],
      "metadata": {
        "colab": {
          "base_uri": "https://localhost:8080/"
        },
        "id": "xyh4OqZfmpyE",
        "outputId": "540621d4-f6a7-4ec7-c130-ee0a4aed8226"
      },
      "id": "xyh4OqZfmpyE",
      "execution_count": null,
      "outputs": [
        {
          "output_type": "stream",
          "name": "stdout",
          "text": [
            "+-----+----------------------------------------------------------------------------------------------------------------------------------------------------------------------------------------------------+------+------------------------------------------------------------------------------------------------------------------------------------------------------------------------------------------------------------------------------------------+-----------------------------------------------------------------------------------------------------------------------------------------------------------------------+------------------------------------------------------------------------------------------------------------------------------------------------------------------------------------------+\n",
            "|class|text                                                                                                                                                                                                |length|words                                                                                                                                                                                                                                     |ham_words                                                                                                                                                              |vectors                                                                                                                                                                                   |\n",
            "+-----+----------------------------------------------------------------------------------------------------------------------------------------------------------------------------------------------------+------+------------------------------------------------------------------------------------------------------------------------------------------------------------------------------------------------------------------------------------------+-----------------------------------------------------------------------------------------------------------------------------------------------------------------------+------------------------------------------------------------------------------------------------------------------------------------------------------------------------------------------+\n",
            "|ham  |Go until jurong point, crazy.. Available only in bugis n great world la e buffet... Cine there got amore wat...                                                                                     |111   |[go, until, jurong, point,, crazy.., available, only, in, bugis, n, great, world, la, e, buffet..., cine, there, got, amore, wat...]                                                                                                      |[go, jurong, point,, crazy.., available, bugis, n, great, world, la, e, buffet..., cine, got, amore, wat...]                                                           |(13437,[8,12,33,63,72,338,633,769,1418,1621,4508,5662,7194,8712,10923,12259],[1.0,1.0,1.0,1.0,1.0,1.0,1.0,1.0,1.0,1.0,1.0,1.0,1.0,1.0,1.0,1.0])                                           |\n",
            "|ham  |Ok lar... Joking wif u oni...                                                                                                                                                                       |29    |[ok, lar..., joking, wif, u, oni...]                                                                                                                                                                                                      |[ok, lar..., joking, wif, u, oni...]                                                                                                                                   |(13437,[0,26,303,469,2612,4533],[1.0,1.0,1.0,1.0,1.0,1.0])                                                                                                                                |\n",
            "|spam |Free entry in 2 a wkly comp to win FA Cup final tkts 21st May 2005. Text FA to 87121 to receive entry question(std txt rate)T&C's apply 08452810075over18's                                         |155   |[free, entry, in, 2, a, wkly, comp, to, win, fa, cup, final, tkts, 21st, may, 2005., text, fa, to, 87121, to, receive, entry, question(std, txt, rate)t&c's, apply, 08452810075over18's]                                                  |[free, entry, 2, wkly, comp, win, fa, cup, final, tkts, 21st, may, 2005., text, fa, 87121, receive, entry, question(std, txt, rate)t&c's, apply, 08452810075over18's]  |(13437,[2,14,20,32,91,159,197,312,468,524,643,865,963,2023,2038,2369,3037,3288,3461,3871,5225],[1.0,1.0,1.0,1.0,1.0,1.0,1.0,2.0,1.0,1.0,1.0,1.0,1.0,1.0,1.0,2.0,1.0,1.0,1.0,1.0,1.0])     |\n",
            "|ham  |U dun say so early hor... U c already then say...                                                                                                                                                   |49    |[u, dun, say, so, early, hor..., u, c, already, then, say...]                                                                                                                                                                             |[u, dun, say, early, hor..., u, c, already, say...]                                                                                                                    |(13437,[0,70,82,135,152,335,2925,4517],[2.0,1.0,1.0,1.0,1.0,1.0,1.0,1.0])                                                                                                                 |\n",
            "|ham  |Nah I don't think he goes to usf, he lives around here though                                                                                                                                       |61    |[nah, i, don't, think, he, goes, to, usf,, he, lives, around, here, though]                                                                                                                                                               |[nah, think, goes, usf,, lives, around, though]                                                                                                                        |(13437,[38,137,318,553,1334,4195,4503],[1.0,1.0,1.0,1.0,1.0,1.0,1.0])                                                                                                                     |\n",
            "|spam |FreeMsg Hey there darling it's been 3 week's now and no word back! I'd like some fun you up for it still? Tb ok! XxX std chgs to send, £1.50 to rcv                                                 |147   |[freemsg, hey, there, darling, it's, been, 3, week's, now, and, no, word, back!, i'd, like, some, fun, you, up, for, it, still?, tb, ok!, xxx, std, chgs, to, send,, £1.50, to, rcv]                                                      |[freemsg, hey, darling, 3, week's, word, back!, i'd, like, fun, still?, tb, ok!, xxx, std, chgs, send,, £1.50, rcv]                                                    |(13437,[11,60,145,289,357,376,499,735,1374,1666,2106,2678,3370,3686,3688,4471,4575,5157,10941],[1.0,1.0,1.0,1.0,1.0,1.0,1.0,1.0,1.0,1.0,1.0,1.0,1.0,1.0,1.0,1.0,1.0,1.0,1.0])             |\n",
            "|ham  |Even my brother is not like to speak with me. They treat me like aids patent.                                                                                                                       |77    |[even, my, brother, is, not, like, to, speak, with, me., they, treat, me, like, aids, patent.]                                                                                                                                            |[even, brother, like, speak, me., treat, like, aids, patent.]                                                                                                          |(13437,[11,54,104,250,630,760,10591,12101],[2.0,1.0,1.0,1.0,1.0,1.0,1.0,1.0])                                                                                                             |\n",
            "|ham  |As per your request 'Melle Melle (Oru Minnaminunginte Nurungu Vettam)' has been set as your callertune for all Callers. Press *9 to copy your friends Callertune                                    |160   |[as, per, your, request, 'melle, melle, (oru, minnaminunginte, nurungu, vettam)', has, been, set, as, your, callertune, for, all, callers., press, *9, to, copy, your, friends, callertune]                                               |[per, request, 'melle, melle, (oru, minnaminunginte, nurungu, vettam)', set, callertune, callers., press, *9, copy, friends, callertune]                               |(13437,[130,189,434,929,933,957,1179,1620,1785,2575,2847,2901,2914,3123,3170],[1.0,1.0,1.0,1.0,2.0,1.0,1.0,1.0,1.0,1.0,1.0,1.0,1.0,1.0,1.0])                                              |\n",
            "|spam |WINNER!! As a valued network customer you have been selected to receivea £900 prize reward! To claim call 09061701461. Claim code KL341. Valid 12 hours only.                                       |157   |[winner!!, as, a, valued, network, customer, you, have, been, selected, to, receivea, £900, prize, reward!, to, claim, call, 09061701461., claim, code, kl341., valid, 12, hours, only.]                                                  |[winner!!, valued, network, customer, selected, receivea, £900, prize, reward!, claim, call, 09061701461., claim, code, kl341., valid, 12, hours, only.]               |(13437,[1,49,124,149,302,329,358,523,551,581,809,1118,1318,2610,4934,5110,5163,5326],[1.0,2.0,1.0,1.0,1.0,1.0,1.0,1.0,1.0,1.0,1.0,1.0,1.0,1.0,1.0,1.0,1.0,1.0])                           |\n",
            "|spam |Had your mobile 11 months or more? U R entitled to Update to the latest colour mobiles with camera for Free! Call The Mobile Update Co FREE on 08002986030                                          |154   |[had, your, mobile, 11, months, or, more?, u, r, entitled, to, update, to, the, latest, colour, mobiles, with, camera, for, free!, call, the, mobile, update, co, free, on, 08002986030]                                                  |[mobile, 11, months, more?, u, r, entitled, update, latest, colour, mobiles, camera, free!, call, mobile, update, co, free, 08002986030]                               |(13437,[0,1,14,29,41,201,287,377,404,429,883,1071,1198,1361,1885,2951,4165],[1.0,1.0,1.0,1.0,2.0,1.0,1.0,2.0,1.0,1.0,1.0,1.0,1.0,1.0,1.0,1.0,1.0])                                        |\n",
            "|ham  |I'm gonna be home soon and i don't want to talk about this stuff anymore tonight, k? I've cried enough today.                                                                                       |109   |[i'm, gonna, be, home, soon, and, i, don't, want, to, talk, about, this, stuff, anymore, tonight,, k?, i've, cried, enough, today.]                                                                                                       |[i'm, gonna, home, soon, want, talk, stuff, anymore, tonight,, k?, i've, cried, enough, today.]                                                                        |(13437,[5,19,45,101,120,179,221,228,308,378,2497,3922,5375,12969],[1.0,1.0,1.0,1.0,1.0,1.0,1.0,1.0,1.0,1.0,1.0,1.0,1.0,1.0])                                                              |\n",
            "|spam |SIX chances to win CASH! From 100 to 20,000 pounds txt> CSH11 and send to 87575. Cost 150p/day, 6days, 16+ TsandCs apply Reply HL 4 info                                                            |136   |[six, chances, to, win, cash!, from, 100, to, 20,000, pounds, txt>, csh11, and, send, to, 87575., cost, 150p/day,, 6days,, 16+, tsandcs, apply, reply, hl, 4, info]                                                                       |[six, chances, win, cash!, 100, 20,000, pounds, txt>, csh11, send, 87575., cost, 150p/day,, 6days,, 16+, tsandcs, apply, reply, hl, 4, info]                           |(13437,[9,18,39,91,286,396,446,524,549,1086,1454,2042,2272,3392,3616,4047,4076,4564,4993,5167,5303],[1.0,1.0,1.0,1.0,1.0,1.0,1.0,1.0,1.0,1.0,1.0,1.0,1.0,1.0,1.0,1.0,1.0,1.0,1.0,1.0,1.0])|\n",
            "|spam |URGENT! You have won a 1 week FREE membership in our £100,000 Prize Jackpot! Txt the word: CLAIM to No: 81010 T&C www.dbuk.net LCCLTD POBOX 4403LDNW1A7RW18                                         |155   |[urgent!, you, have, won, a, 1, week, free, membership, in, our, £100,000, prize, jackpot!, txt, the, word:, claim, to, no:, 81010, t&c, www.dbuk.net, lccltd, pobox, 4403ldnw1a7rw18]                                                    |[urgent!, 1, week, free, membership, £100,000, prize, jackpot!, txt, word:, claim, no:, 81010, t&c, www.dbuk.net, lccltd, pobox, 4403ldnw1a7rw18]                      |(13437,[14,32,49,89,102,124,166,508,533,675,994,2431,3491,3633,4072,4639,4827,4975],[1.0,1.0,1.0,1.0,1.0,1.0,1.0,1.0,1.0,1.0,1.0,1.0,1.0,1.0,1.0,1.0,1.0,1.0])                            |\n",
            "|ham  |I've been searching for the right words to thank you for this breather. I promise i wont take your help for granted and will fulfil my promise. You have been wonderful and a blessing at all times.|196   |[i've, been, searching, for, the, right, words, to, thank, you, for, this, breather., i, promise, i, wont, take, your, help, for, granted, and, will, fulfil, my, promise., you, have, been, wonderful, and, a, blessing, at, all, times.]|[i've, searching, right, words, thank, breather., promise, wont, take, help, granted, fulfil, promise., wonderful, blessing, times.]                                   |(13437,[40,97,101,222,232,296,578,637,1199,1831,2105,4132,4656,5546,9699,11436],[1.0,1.0,1.0,1.0,1.0,1.0,1.0,1.0,1.0,1.0,1.0,1.0,1.0,1.0,1.0,1.0])                                        |\n",
            "|ham  |I HAVE A DATE ON SUNDAY WITH WILL!!                                                                                                                                                                 |35    |[i, have, a, date, on, sunday, with, will!!]                                                                                                                                                                                              |[date, sunday, will!!]                                                                                                                                                 |(13437,[559,1722,9761],[1.0,1.0,1.0])                                                                                                                                                     |\n",
            "|spam |XXXMobileMovieClub: To use your credit, click the WAP link in the next txt message or click here>> http://wap. xxxmobilemovieclub.com?n=QJKGIGHJJGCBL                                               |149   |[xxxmobilemovieclub:, to, use, your, credit,, click, the, wap, link, in, the, next, txt, message, or, click, here>>, http://wap., xxxmobilemovieclub.com?n=qjkgighjjgcbl]                                                                 |[xxxmobilemovieclub:, use, credit,, click, wap, link, next, txt, message, click, here>>, http://wap., xxxmobilemovieclub.com?n=qjkgighjjgcbl]                          |(13437,[32,110,112,178,1083,1263,1279,5843,6016,6610,7864,12032],[1.0,1.0,1.0,1.0,1.0,2.0,1.0,1.0,1.0,1.0,1.0,1.0])                                                                       |\n",
            "|ham  |Oh k...i'm watching here:)                                                                                                                                                                          |26    |[oh, k...i'm, watching, here:)]                                                                                                                                                                                                           |[oh, k...i'm, watching, here:)]                                                                                                                                        |(13437,[83,216,3736,10210],[1.0,1.0,1.0,1.0])                                                                                                                                             |\n",
            "|ham  |Eh u remember how 2 spell his name... Yes i did. He v naughty make until i v wet.                                                                                                                   |81    |[eh, u, remember, how, 2, spell, his, name..., yes, i, did., he, v, naughty, make, until, i, v, wet.]                                                                                                                                     |[eh, u, remember, 2, spell, name..., yes, did., v, naughty, make, v, wet.]                                                                                             |(13437,[0,2,51,138,196,278,790,1627,3132,4241,9701,10848],[1.0,1.0,1.0,1.0,2.0,1.0,1.0,1.0,1.0,1.0,1.0,1.0])                                                                              |\n",
            "|ham  |Fine if thats the way u feel. Thats the way its gota b                                                                                                                                            |56    |[fine, if, thats, the, way, u, feel., thats, the, way, its, gota, b]                                                                                                                                                                    |[fine, thats, way, u, feel., thats, way, gota, b]                                                                                                                    |(13437,[0,75,107,567,2327,8650,12247],[1.0,2.0,1.0,1.0,2.0,1.0,1.0])                                                                                                                      |\n",
            "|spam |England v Macedonia - dont miss the goals/team news. Txt ur national team to 87077 eg ENGLAND to 87077 Try:WALES, SCOTLAND 4txt/ú1.20 POBOXox36504W45WQ 16+                                         |155   |[england, v, macedonia, -, dont, miss, the, goals/team, news., txt, ur, national, team, to, 87077, eg, england, to, 87077, try:wales,, scotland, 4txt/ú1.20, poboxox36504w45wq, 16+]                                                      |[england, v, macedonia, -, dont, miss, goals/team, news., txt, ur, national, team, 87077, eg, england, 87077, try:wales,, scotland, 4txt/ú1.20, poboxox36504w45wq, 16+]|(13437,[4,32,35,61,79,196,396,740,855,1180,1309,3143,4127,6895,7513,8259,9494,10955,11284],[1.0,1.0,1.0,1.0,1.0,1.0,1.0,1.0,1.0,2.0,2.0,1.0,1.0,1.0,1.0,1.0,1.0,1.0,1.0])                 |\n",
            "+-----+----------------------------------------------------------------------------------------------------------------------------------------------------------------------------------------------------+------+------------------------------------------------------------------------------------------------------------------------------------------------------------------------------------------------------------------------------------------+-----------------------------------------------------------------------------------------------------------------------------------------------------------------------+------------------------------------------------------------------------------------------------------------------------------------------------------------------------------------------+\n",
            "only showing top 20 rows\n",
            "\n"
          ]
        }
      ]
    },
    {
      "cell_type": "code",
      "source": [
        "df6=model.transform(df5)"
      ],
      "metadata": {
        "id": "UlfpK_SRndXU"
      },
      "id": "UlfpK_SRndXU",
      "execution_count": null,
      "outputs": []
    },
    {
      "cell_type": "code",
      "source": [
        "idf = IDF(inputCol=\"vectors\", outputCol=\"features\")\n",
        "idfModel = idf.fit(df6)\n",
        "df7 = idfModel.transform(df6)\n",
        "df7.select(\"class\", \"features\").show()"
      ],
      "metadata": {
        "colab": {
          "base_uri": "https://localhost:8080/"
        },
        "id": "FHKTPJB_mph6",
        "outputId": "b87cd0f5-24fb-465d-d405-16d928160749"
      },
      "id": "FHKTPJB_mph6",
      "execution_count": null,
      "outputs": [
        {
          "output_type": "stream",
          "name": "stdout",
          "text": [
            "+-----+--------------------+\n",
            "|class|            features|\n",
            "+-----+--------------------+\n",
            "|  ham|(13437,[8,12,33,6...|\n",
            "|  ham|(13437,[0,26,303,...|\n",
            "| spam|(13437,[2,14,20,3...|\n",
            "|  ham|(13437,[0,70,82,1...|\n",
            "|  ham|(13437,[38,137,31...|\n",
            "| spam|(13437,[11,60,145...|\n",
            "|  ham|(13437,[11,54,104...|\n",
            "|  ham|(13437,[130,189,4...|\n",
            "| spam|(13437,[1,49,124,...|\n",
            "| spam|(13437,[0,1,14,29...|\n",
            "|  ham|(13437,[5,19,45,1...|\n",
            "| spam|(13437,[9,18,39,9...|\n",
            "| spam|(13437,[14,32,49,...|\n",
            "|  ham|(13437,[40,97,101...|\n",
            "|  ham|(13437,[559,1722,...|\n",
            "| spam|(13437,[32,110,11...|\n",
            "|  ham|(13437,[83,216,37...|\n",
            "|  ham|(13437,[0,2,51,13...|\n",
            "|  ham|(13437,[0,75,107,...|\n",
            "| spam|(13437,[4,32,35,6...|\n",
            "+-----+--------------------+\n",
            "only showing top 20 rows\n",
            "\n"
          ]
        }
      ]
    },
    {
      "cell_type": "code",
      "execution_count": null,
      "id": "b82756db",
      "metadata": {
        "id": "b82756db",
        "colab": {
          "base_uri": "https://localhost:8080/"
        },
        "outputId": "15152a27-0626-4d3e-e672-b69d6924da6b"
      },
      "outputs": [
        {
          "output_type": "stream",
          "name": "stdout",
          "text": [
            "+-----+--------------------------------------------------------------------------------------------------------------------------------------------------------------------------------------------------------------------------------------------------------------------------------------------------------------------------------------------------------------------------------------------------------------------------------------------------------------------------------------------+\n",
            "|class|features                                                                                                                                                                                                                                                                                                                                                                                                                                                                                    |\n",
            "+-----+--------------------------------------------------------------------------------------------------------------------------------------------------------------------------------------------------------------------------------------------------------------------------------------------------------------------------------------------------------------------------------------------------------------------------------------------------------------------------------------------+\n",
            "|ham  |(13437,[8,12,33,63,72,338,633,769,1418,1621,4508,5662,7194,8712,10923,12259],[3.1126188501633374,3.2055125970560336,3.822026551595063,4.207206988531722,4.32198250312415,5.407171771460119,5.917997395226109,6.141140946540319,6.680137447273006,6.8342881271002645,7.52743530766021,7.9329004157683745,7.9329004157683745,7.9329004157683745,7.9329004157683745,7.9329004157683745])                                                                                                       |\n",
            "|ham  |(13437,[0,26,303,469,2612,4533],[2.016698353160939,3.5761915890787823,5.330210730323991,5.7356758384321544,7.239753235208429,7.52743530766021])                                                                                                                                                                                                                                                                                                                                             |\n",
            "|spam |(13437,[2,14,20,32,91,159,197,312,468,524,643,865,963,2023,2038,2369,3037,3288,3461,3871,5225],[2.704469176684504,3.332742771603827,3.5634525633013525,3.6702205387270586,4.421354976937353,4.841857962410058,5.099687071712158,11.070010285940008,5.681608617161879,5.7356758384321544,5.917997395226109,6.228152323529949,6.323462503334274,7.016609683894219,7.016609683894219,15.05487061532042,7.239753235208429,7.239753235208429,7.52743530766021,7.52743530766021,7.52743530766021])|\n",
            "|ham  |(13437,[0,70,82,135,152,335,2925,4517],[4.033396706321878,4.256599743861298,4.32198250312415,4.674803877746892,4.734227298217693,5.407171771460119,7.239753235208429,7.52743530766021])                                                                                                                                                                                                                                                                                                     |\n",
            "|ham  |(13437,[38,137,318,553,1334,4195,4503],[3.7977338590260183,4.7140245909001735,5.367951058306837,5.792834252272104,6.546606054648484,7.52743530766021,7.52743530766021])                                                                                                                                                                                                                                                                                                                     |\n",
            "|spam |(13437,[11,60,145,289,357,376,499,735,1374,1666,2106,2678,3370,3686,3688,4471,4575,5157,10941],[3.2278848948105665,4.148710781850113,4.734227298217693,5.258751766341845,5.49055338039917,5.49055338039917,5.7356758384321544,6.061098238866783,6.680137447273006,6.8342881271002645,7.016609683894219,7.239753235208429,7.52743530766021,7.52743530766021,7.52743530766021,7.52743530766021,7.52743530766021,7.52743530766021,7.9329004157683745])                                         |\n",
            "|ham  |(13437,[11,54,104,250,630,760,10591,12101],[6.455769789621133,4.0410801176577476,4.5151737321550085,5.160311693528593,5.917997395226109,6.061098238866783,7.9329004157683745,7.9329004157683745])                                                                                                                                                                                                                                                                                           |\n",
            "|ham  |(13437,[130,189,434,929,933,957,1179,1620,1785,2575,2847,2901,2914,3123,3170],[4.60069590559317,5.015129683684095,5.581525158604896,6.228152323529949,13.668576254200529,6.323462503334274,6.546606054648484,6.8342881271002645,6.8342881271002645,7.239753235208429,7.239753235208429,7.239753235208429,7.239753235208429,7.239753235208429,7.239753235208429])                                                                                                                            |\n",
            "|spam |(13437,[1,49,124,149,302,329,358,523,551,581,809,1118,1318,2610,4934,5110,5163,5326],[2.3645559120072774,8.002149566088097,4.618714411095849,4.7140245909001735,5.293843086153116,5.367951058306837,5.447993765980374,5.7356758384321544,5.792834252272104,5.853458874088538,6.141140946540319,6.4288230189921,6.546606054648484,7.239753235208429,7.52743530766021,7.52743530766021,7.52743530766021,7.52743530766021])                                                                    |\n",
            "|spam |(13437,[0,1,14,29,41,201,287,377,404,429,883,1071,1198,1361,1885,2951,4165],[2.016698353160939,2.3645559120072774,3.332742771603827,3.7060666705001943,7.81509745006645,5.04252865787221,5.258751766341845,11.585668504544207,5.535005142970004,5.581525158604896,6.228152323529949,6.4288230189921,6.546606054648484,6.546606054648484,6.8342881271002645,7.239753235208429,7.52743530766021])                                                                                             |\n",
            "|ham  |(13437,[5,19,45,101,120,179,221,228,308,378,2497,3922,5375,12969],[2.77672281638146,3.44989786375449,3.9165173950159855,4.482912869936787,4.58299632849377,4.888377978044951,5.099687071712158,5.129540034861839,5.293843086153116,5.49055338039917,7.239753235208429,7.52743530766021,7.52743530766021,7.9329004157683745])                                                                                                                                                                |\n",
            "|spam |(13437,[9,18,39,91,286,396,446,524,549,1086,1454,2042,2272,3392,3616,4047,4076,4564,4993,5167,5303],[3.145408672986328,3.411111838719334,3.872457405221955,4.421354976937353,5.258751766341845,5.49055338039917,5.630315322774329,5.7356758384321544,5.792834252272104,6.4288230189921,6.680137447273006,7.016609683894219,7.016609683894219,7.52743530766021,7.52743530766021,7.52743530766021,7.52743530766021,7.52743530766021,7.52743530766021,7.52743530766021,7.52743530766021])      |\n",
            "|spam |(13437,[14,32,49,89,102,124,166,508,533,675,994,2431,3491,3633,4072,4639,4827,4975],[3.332742771603827,3.6702205387270586,4.001074783044048,4.3775523542789605,4.4671645129686475,4.618714411095849,4.841857962410058,5.7356758384321544,5.792834252272104,5.986990266713061,6.323462503334274,7.239753235208429,7.52743530766021,7.52743530766021,7.52743530766021,7.52743530766021,7.52743530766021,7.52743530766021])                                                                    |\n",
            "|ham  |(13437,[40,97,101,222,232,296,578,637,1199,1831,2105,4132,4656,5546,9699,11436],[3.7977338590260183,4.482912869936787,4.482912869936787,5.129540034861839,5.099687071712158,5.293843086153116,5.853458874088538,5.986990266713061,6.546606054648484,6.8342881271002645,7.016609683894219,7.52743530766021,7.52743530766021,7.9329004157683745,7.9329004157683745,7.9329004157683745])                                                                                                       |\n",
            "|ham  |(13437,[559,1722,9761],[5.853458874088538,6.8342881271002645,7.9329004157683745])                                                                                                                                                                                                                                                                                                                                                                                                           |\n",
            "|spam |(13437,[32,110,112,178,1083,1263,1279,5843,6016,6610,7864,12032],[3.6702205387270586,4.5485101524226,4.5485101524226,4.912475529624012,6.4288230189921,13.360274894546013,6.680137447273006,7.9329004157683745,7.9329004157683745,7.9329004157683745,7.9329004157683745,7.9329004157683745])                                                                                                                                                                                                |\n",
            "|ham  |(13437,[83,216,3736,10210],[4.32198250312415,5.070699534838906,7.52743530766021,7.9329004157683745])                                                                                                                                                                                                                                                                                                                                                                                        |\n",
            "|ham  |(13437,[0,2,51,138,196,278,790,1627,3132,4241,9701,10848],[2.016698353160939,2.704469176684504,4.030927746193729,4.637063549764045,10.384120783686347,5.224850214666164,6.141140946540319,6.8342881271002645,7.239753235208429,7.52743530766021,7.9329004157683745,7.9329004157683745])                                                                                                                                                                                                     |\n",
            "|ham  |(13437,[0,75,107,567,2327,8650,12247],[2.016698353160939,8.590628512083978,4.498913211283228,5.853458874088538,14.479506470416858,7.9329004157683745,7.9329004157683745])                                                                                                                                                                                                                                                                                                                   |\n",
            "|spam |(13437,[4,32,35,61,79,196,396,740,855,1180,1309,3143,4127,6895,7513,8259,9494,10955,11284],[2.892706319430574,3.6702205387270586,3.7508502731271682,4.231598441655881,4.363367719287004,5.192060391843174,5.49055338039917,6.061098238866783,6.141140946540319,13.360274894546013,13.668576254200529,7.239753235208429,7.52743530766021,7.9329004157683745,7.9329004157683745,7.9329004157683745,7.9329004157683745,7.9329004157683745,7.9329004157683745])                                 |\n",
            "+-----+--------------------------------------------------------------------------------------------------------------------------------------------------------------------------------------------------------------------------------------------------------------------------------------------------------------------------------------------------------------------------------------------------------------------------------------------------------------------------------------------+\n",
            "only showing top 20 rows\n",
            "\n"
          ]
        }
      ],
      "source": [
        "df7.select(\"class\", \"features\").show(truncate=False)"
      ]
    },
    {
      "cell_type": "markdown",
      "id": "1527ad65",
      "metadata": {
        "id": "1527ad65"
      },
      "source": [
        "- Convert the <b>class column</b> to index using <b>StringIndexer</b>\n",
        "- Create feature column from the <b>TF-IDF</b> and <b>lenght</b> columns."
      ]
    },
    {
      "cell_type": "code",
      "execution_count": null,
      "id": "aaf46159",
      "metadata": {
        "id": "aaf46159"
      },
      "outputs": [],
      "source": [
        "from pyspark.ml.feature import StringIndexer, OneHotEncoder,VectorAssembler\n"
      ]
    },
    {
      "cell_type": "code",
      "source": [
        "stringIndexer = StringIndexer(inputCol=\"class\", outputCol=\"indexed_class\",handleInvalid='skip',stringOrderType=\"frequencyDesc\")\n",
        "stringIndexer_model = stringIndexer.fit(df7)"
      ],
      "metadata": {
        "id": "WeMRDRDnoKBI"
      },
      "id": "WeMRDRDnoKBI",
      "execution_count": null,
      "outputs": []
    },
    {
      "cell_type": "code",
      "source": [
        "stringIndexer_model.transform(df7).show()"
      ],
      "metadata": {
        "colab": {
          "base_uri": "https://localhost:8080/"
        },
        "id": "_fHs004GoJ-I",
        "outputId": "fd383534-5627-4599-a4ea-70266df07313"
      },
      "id": "_fHs004GoJ-I",
      "execution_count": null,
      "outputs": [
        {
          "output_type": "stream",
          "name": "stdout",
          "text": [
            "+-----+--------------------+------+--------------------+--------------------+--------------------+--------------------+-------------+\n",
            "|class|                text|length|               words|           ham_words|             vectors|            features|indexed_class|\n",
            "+-----+--------------------+------+--------------------+--------------------+--------------------+--------------------+-------------+\n",
            "|  ham|Go until jurong p...|   111|[go, until, juron...|[go, jurong, poin...|(13437,[8,12,33,6...|(13437,[8,12,33,6...|          0.0|\n",
            "|  ham|Ok lar... Joking ...|    29|[ok, lar..., joki...|[ok, lar..., joki...|(13437,[0,26,303,...|(13437,[0,26,303,...|          0.0|\n",
            "| spam|Free entry in 2 a...|   155|[free, entry, in,...|[free, entry, 2, ...|(13437,[2,14,20,3...|(13437,[2,14,20,3...|          1.0|\n",
            "|  ham|U dun say so earl...|    49|[u, dun, say, so,...|[u, dun, say, ear...|(13437,[0,70,82,1...|(13437,[0,70,82,1...|          0.0|\n",
            "|  ham|Nah I don't think...|    61|[nah, i, don't, t...|[nah, think, goes...|(13437,[38,137,31...|(13437,[38,137,31...|          0.0|\n",
            "| spam|FreeMsg Hey there...|   147|[freemsg, hey, th...|[freemsg, hey, da...|(13437,[11,60,145...|(13437,[11,60,145...|          1.0|\n",
            "|  ham|Even my brother i...|    77|[even, my, brothe...|[even, brother, l...|(13437,[11,54,104...|(13437,[11,54,104...|          0.0|\n",
            "|  ham|As per your reque...|   160|[as, per, your, r...|[per, request, 'm...|(13437,[130,189,4...|(13437,[130,189,4...|          0.0|\n",
            "| spam|WINNER!! As a val...|   157|[winner!!, as, a,...|[winner!!, valued...|(13437,[1,49,124,...|(13437,[1,49,124,...|          1.0|\n",
            "| spam|Had your mobile 1...|   154|[had, your, mobil...|[mobile, 11, mont...|(13437,[0,1,14,29...|(13437,[0,1,14,29...|          1.0|\n",
            "|  ham|I'm gonna be home...|   109|[i'm, gonna, be, ...|[i'm, gonna, home...|(13437,[5,19,45,1...|(13437,[5,19,45,1...|          0.0|\n",
            "| spam|SIX chances to wi...|   136|[six, chances, to...|[six, chances, wi...|(13437,[9,18,39,9...|(13437,[9,18,39,9...|          1.0|\n",
            "| spam|URGENT! You have ...|   155|[urgent!, you, ha...|[urgent!, 1, week...|(13437,[14,32,49,...|(13437,[14,32,49,...|          1.0|\n",
            "|  ham|I've been searchi...|   196|[i've, been, sear...|[i've, searching,...|(13437,[40,97,101...|(13437,[40,97,101...|          0.0|\n",
            "|  ham|I HAVE A DATE ON ...|    35|[i, have, a, date...|[date, sunday, wi...|(13437,[559,1722,...|(13437,[559,1722,...|          0.0|\n",
            "| spam|XXXMobileMovieClu...|   149|[xxxmobilemoviecl...|[xxxmobilemoviecl...|(13437,[32,110,11...|(13437,[32,110,11...|          1.0|\n",
            "|  ham|Oh k...i'm watchi...|    26|[oh, k...i'm, wat...|[oh, k...i'm, wat...|(13437,[83,216,37...|(13437,[83,216,37...|          0.0|\n",
            "|  ham|Eh u remember how...|    81|[eh, u, remember,...|[eh, u, remember,...|(13437,[0,2,51,13...|(13437,[0,2,51,13...|          0.0|\n",
            "|  ham|Fine if thats th...|    56|[fine, if, thats...|[fine, thats, wa...|(13437,[0,75,107,...|(13437,[0,75,107,...|          0.0|\n",
            "| spam|England v Macedon...|   155|[england, v, mace...|[england, v, mace...|(13437,[4,32,35,6...|(13437,[4,32,35,6...|          1.0|\n",
            "+-----+--------------------+------+--------------------+--------------------+--------------------+--------------------+-------------+\n",
            "only showing top 20 rows\n",
            "\n"
          ]
        }
      ]
    },
    {
      "cell_type": "code",
      "execution_count": null,
      "id": "ad9d4c52",
      "metadata": {
        "id": "ad9d4c52"
      },
      "outputs": [],
      "source": [
        "df8=stringIndexer_model.transform(df7)"
      ]
    },
    {
      "cell_type": "code",
      "source": [
        "vec_assem=VectorAssembler(inputCols=['features','length'],outputCol='feature')"
      ],
      "metadata": {
        "id": "eWtt_TkYqB05"
      },
      "id": "eWtt_TkYqB05",
      "execution_count": null,
      "outputs": []
    },
    {
      "cell_type": "code",
      "source": [
        "vec_assem.transform(df8).select('feature').show(truncate=False)"
      ],
      "metadata": {
        "colab": {
          "base_uri": "https://localhost:8080/"
        },
        "id": "6L-5A22qqIac",
        "outputId": "b80b1482-a9d5-4b9d-b12d-813c4b60ac31"
      },
      "id": "6L-5A22qqIac",
      "execution_count": null,
      "outputs": [
        {
          "output_type": "stream",
          "name": "stdout",
          "text": [
            "+--------------------------------------------------------------------------------------------------------------------------------------------------------------------------------------------------------------------------------------------------------------------------------------------------------------------------------------------------------------------------------------------------------------------------------------------------------------------------------------------------------+\n",
            "|feature                                                                                                                                                                                                                                                                                                                                                                                                                                                                                                 |\n",
            "+--------------------------------------------------------------------------------------------------------------------------------------------------------------------------------------------------------------------------------------------------------------------------------------------------------------------------------------------------------------------------------------------------------------------------------------------------------------------------------------------------------+\n",
            "|(13438,[8,12,33,63,72,338,633,769,1418,1621,4508,5662,7194,8712,10923,12259,13437],[3.1126188501633374,3.2055125970560336,3.822026551595063,4.207206988531722,4.32198250312415,5.407171771460119,5.917997395226109,6.141140946540319,6.680137447273006,6.8342881271002645,7.52743530766021,7.9329004157683745,7.9329004157683745,7.9329004157683745,7.9329004157683745,7.9329004157683745,111.0])                                                                                                       |\n",
            "|(13438,[0,26,303,469,2612,4533,13437],[2.016698353160939,3.5761915890787823,5.330210730323991,5.7356758384321544,7.239753235208429,7.52743530766021,29.0])                                                                                                                                                                                                                                                                                                                                              |\n",
            "|(13438,[2,14,20,32,91,159,197,312,468,524,643,865,963,2023,2038,2369,3037,3288,3461,3871,5225,13437],[2.704469176684504,3.332742771603827,3.5634525633013525,3.6702205387270586,4.421354976937353,4.841857962410058,5.099687071712158,11.070010285940008,5.681608617161879,5.7356758384321544,5.917997395226109,6.228152323529949,6.323462503334274,7.016609683894219,7.016609683894219,15.05487061532042,7.239753235208429,7.239753235208429,7.52743530766021,7.52743530766021,7.52743530766021,155.0])|\n",
            "|(13438,[0,70,82,135,152,335,2925,4517,13437],[4.033396706321878,4.256599743861298,4.32198250312415,4.674803877746892,4.734227298217693,5.407171771460119,7.239753235208429,7.52743530766021,49.0])                                                                                                                                                                                                                                                                                                      |\n",
            "|(13438,[38,137,318,553,1334,4195,4503,13437],[3.7977338590260183,4.7140245909001735,5.367951058306837,5.792834252272104,6.546606054648484,7.52743530766021,7.52743530766021,61.0])                                                                                                                                                                                                                                                                                                                      |\n",
            "|(13438,[11,60,145,289,357,376,499,735,1374,1666,2106,2678,3370,3686,3688,4471,4575,5157,10941,13437],[3.2278848948105665,4.148710781850113,4.734227298217693,5.258751766341845,5.49055338039917,5.49055338039917,5.7356758384321544,6.061098238866783,6.680137447273006,6.8342881271002645,7.016609683894219,7.239753235208429,7.52743530766021,7.52743530766021,7.52743530766021,7.52743530766021,7.52743530766021,7.52743530766021,7.9329004157683745,147.0])                                         |\n",
            "|(13438,[11,54,104,250,630,760,10591,12101,13437],[6.455769789621133,4.0410801176577476,4.5151737321550085,5.160311693528593,5.917997395226109,6.061098238866783,7.9329004157683745,7.9329004157683745,77.0])                                                                                                                                                                                                                                                                                            |\n",
            "|(13438,[130,189,434,929,933,957,1179,1620,1785,2575,2847,2901,2914,3123,3170,13437],[4.60069590559317,5.015129683684095,5.581525158604896,6.228152323529949,13.668576254200529,6.323462503334274,6.546606054648484,6.8342881271002645,6.8342881271002645,7.239753235208429,7.239753235208429,7.239753235208429,7.239753235208429,7.239753235208429,7.239753235208429,160.0])                                                                                                                            |\n",
            "|(13438,[1,49,124,149,302,329,358,523,551,581,809,1118,1318,2610,4934,5110,5163,5326,13437],[2.3645559120072774,8.002149566088097,4.618714411095849,4.7140245909001735,5.293843086153116,5.367951058306837,5.447993765980374,5.7356758384321544,5.792834252272104,5.853458874088538,6.141140946540319,6.4288230189921,6.546606054648484,7.239753235208429,7.52743530766021,7.52743530766021,7.52743530766021,7.52743530766021,157.0])                                                                    |\n",
            "|(13438,[0,1,14,29,41,201,287,377,404,429,883,1071,1198,1361,1885,2951,4165,13437],[2.016698353160939,2.3645559120072774,3.332742771603827,3.7060666705001943,7.81509745006645,5.04252865787221,5.258751766341845,11.585668504544207,5.535005142970004,5.581525158604896,6.228152323529949,6.4288230189921,6.546606054648484,6.546606054648484,6.8342881271002645,7.239753235208429,7.52743530766021,154.0])                                                                                             |\n",
            "|(13438,[5,19,45,101,120,179,221,228,308,378,2497,3922,5375,12969,13437],[2.77672281638146,3.44989786375449,3.9165173950159855,4.482912869936787,4.58299632849377,4.888377978044951,5.099687071712158,5.129540034861839,5.293843086153116,5.49055338039917,7.239753235208429,7.52743530766021,7.52743530766021,7.9329004157683745,109.0])                                                                                                                                                                |\n",
            "|(13438,[9,18,39,91,286,396,446,524,549,1086,1454,2042,2272,3392,3616,4047,4076,4564,4993,5167,5303,13437],[3.145408672986328,3.411111838719334,3.872457405221955,4.421354976937353,5.258751766341845,5.49055338039917,5.630315322774329,5.7356758384321544,5.792834252272104,6.4288230189921,6.680137447273006,7.016609683894219,7.016609683894219,7.52743530766021,7.52743530766021,7.52743530766021,7.52743530766021,7.52743530766021,7.52743530766021,7.52743530766021,7.52743530766021,136.0])      |\n",
            "|(13438,[14,32,49,89,102,124,166,508,533,675,994,2431,3491,3633,4072,4639,4827,4975,13437],[3.332742771603827,3.6702205387270586,4.001074783044048,4.3775523542789605,4.4671645129686475,4.618714411095849,4.841857962410058,5.7356758384321544,5.792834252272104,5.986990266713061,6.323462503334274,7.239753235208429,7.52743530766021,7.52743530766021,7.52743530766021,7.52743530766021,7.52743530766021,7.52743530766021,155.0])                                                                    |\n",
            "|(13438,[40,97,101,222,232,296,578,637,1199,1831,2105,4132,4656,5546,9699,11436,13437],[3.7977338590260183,4.482912869936787,4.482912869936787,5.129540034861839,5.099687071712158,5.293843086153116,5.853458874088538,5.986990266713061,6.546606054648484,6.8342881271002645,7.016609683894219,7.52743530766021,7.52743530766021,7.9329004157683745,7.9329004157683745,7.9329004157683745,196.0])                                                                                                       |\n",
            "|(13438,[559,1722,9761,13437],[5.853458874088538,6.8342881271002645,7.9329004157683745,35.0])                                                                                                                                                                                                                                                                                                                                                                                                            |\n",
            "|(13438,[32,110,112,178,1083,1263,1279,5843,6016,6610,7864,12032,13437],[3.6702205387270586,4.5485101524226,4.5485101524226,4.912475529624012,6.4288230189921,13.360274894546013,6.680137447273006,7.9329004157683745,7.9329004157683745,7.9329004157683745,7.9329004157683745,7.9329004157683745,149.0])                                                                                                                                                                                                |\n",
            "|(13438,[83,216,3736,10210,13437],[4.32198250312415,5.070699534838906,7.52743530766021,7.9329004157683745,26.0])                                                                                                                                                                                                                                                                                                                                                                                         |\n",
            "|(13438,[0,2,51,138,196,278,790,1627,3132,4241,9701,10848,13437],[2.016698353160939,2.704469176684504,4.030927746193729,4.637063549764045,10.384120783686347,5.224850214666164,6.141140946540319,6.8342881271002645,7.239753235208429,7.52743530766021,7.9329004157683745,7.9329004157683745,81.0])                                                                                                                                                                                                      |\n",
            "|(13438,[0,75,107,567,2327,8650,12247,13437],[2.016698353160939,8.590628512083978,4.498913211283228,5.853458874088538,14.479506470416858,7.9329004157683745,7.9329004157683745,56.0])                                                                                                                                                                                                                                                                                                                    |\n",
            "|(13438,[4,32,35,61,79,196,396,740,855,1180,1309,3143,4127,6895,7513,8259,9494,10955,11284,13437],[2.892706319430574,3.6702205387270586,3.7508502731271682,4.231598441655881,4.363367719287004,5.192060391843174,5.49055338039917,6.061098238866783,6.141140946540319,13.360274894546013,13.668576254200529,7.239753235208429,7.52743530766021,7.9329004157683745,7.9329004157683745,7.9329004157683745,7.9329004157683745,7.9329004157683745,7.9329004157683745,155.0])                                 |\n",
            "+--------------------------------------------------------------------------------------------------------------------------------------------------------------------------------------------------------------------------------------------------------------------------------------------------------------------------------------------------------------------------------------------------------------------------------------------------------------------------------------------------------+\n",
            "only showing top 20 rows\n",
            "\n"
          ]
        }
      ]
    },
    {
      "cell_type": "code",
      "source": [
        "train_df=vec_assem.transform(df8)"
      ],
      "metadata": {
        "id": "CkkY8qwtqIXn"
      },
      "id": "CkkY8qwtqIXn",
      "execution_count": null,
      "outputs": []
    },
    {
      "cell_type": "markdown",
      "id": "9775d494",
      "metadata": {
        "id": "9775d494"
      },
      "source": [
        "## The Model\n",
        "- Create a <b>NaiveBayes</b> classifier with the default parameters."
      ]
    },
    {
      "cell_type": "code",
      "execution_count": null,
      "id": "57af0d5d",
      "metadata": {
        "id": "57af0d5d"
      },
      "outputs": [],
      "source": [
        "from pyspark.ml.classification import NaiveBayes\n",
        "nb = NaiveBayes()"
      ]
    },
    {
      "cell_type": "code",
      "execution_count": null,
      "id": "54c7384e",
      "metadata": {
        "id": "54c7384e"
      },
      "outputs": [],
      "source": [
        ""
      ]
    },
    {
      "cell_type": "markdown",
      "id": "dc14de63",
      "metadata": {
        "id": "dc14de63"
      },
      "source": [
        "## Pipeline\n",
        "### Create a pipeline model contains all the steps starting from the Tokenizer to the NaiveBays classifier."
      ]
    },
    {
      "cell_type": "code",
      "source": [
        "from pyspark.ml import Pipeline\n"
      ],
      "metadata": {
        "id": "nmP-5S33sfaK"
      },
      "id": "nmP-5S33sfaK",
      "execution_count": null,
      "outputs": []
    },
    {
      "cell_type": "code",
      "execution_count": null,
      "id": "8ee0d1ca",
      "metadata": {
        "id": "8ee0d1ca"
      },
      "outputs": [],
      "source": [
        "##models\n",
        "tokenizer = Tokenizer(inputCol='text',outputCol=\"words\")\n",
        "remover = StopWordsRemover(stopWords=stopwords.words('english'),inputCol='words',outputCol='ham_words')\n",
        "cv = CountVectorizer(inputCol='ham_words',outputCol='vectors')\n",
        "idf = IDF(inputCol=\"vectors\", outputCol=\"features\")\n",
        "\n",
        "stringIndexer = StringIndexer(inputCol=\"class\", outputCol=\"indexed_class\",handleInvalid='skip',stringOrderType=\"frequencyDesc\")\n",
        "\n",
        "vec_assem=VectorAssembler(inputCols=['features','length'],outputCol='feature')\n",
        "\n",
        "nb = NaiveBayes(featuresCol='feature',labelCol='indexed_class')"
      ]
    },
    {
      "cell_type": "code",
      "source": [
        "pipline=Pipeline(stages=[tokenizer,remover,cv,idf,stringIndexer,vec_assem,nb])"
      ],
      "metadata": {
        "id": "e_YYSsiWrV4R"
      },
      "id": "e_YYSsiWrV4R",
      "execution_count": null,
      "outputs": []
    },
    {
      "cell_type": "code",
      "execution_count": null,
      "id": "7f82bab0",
      "metadata": {
        "id": "7f82bab0"
      },
      "outputs": [],
      "source": [
        ""
      ]
    },
    {
      "cell_type": "markdown",
      "id": "f5d7efbe",
      "metadata": {
        "id": "f5d7efbe"
      },
      "source": [
        "### Split your data to trian and test data with ratios 0.7 and 0.3 respectively."
      ]
    },
    {
      "cell_type": "code",
      "execution_count": null,
      "id": "2843d997",
      "metadata": {
        "id": "2843d997"
      },
      "outputs": [],
      "source": [
        "train_df,test_df=df3.randomSplit([.7,.3],seed=42)\n"
      ]
    },
    {
      "cell_type": "code",
      "source": [
        ""
      ],
      "metadata": {
        "id": "ro48f4tFsuxS"
      },
      "id": "ro48f4tFsuxS",
      "execution_count": null,
      "outputs": []
    },
    {
      "cell_type": "code",
      "source": [
        ""
      ],
      "metadata": {
        "id": "6-6Mub6Xsut2"
      },
      "id": "6-6Mub6Xsut2",
      "execution_count": null,
      "outputs": []
    },
    {
      "cell_type": "markdown",
      "id": "8bcea576",
      "metadata": {
        "id": "8bcea576"
      },
      "source": [
        "### Fit your Pipeline model to the training data"
      ]
    },
    {
      "cell_type": "code",
      "execution_count": null,
      "id": "3c5d4681",
      "metadata": {
        "id": "3c5d4681"
      },
      "outputs": [],
      "source": [
        "model= pipline.fit(df3)"
      ]
    },
    {
      "cell_type": "markdown",
      "id": "228a3eb1",
      "metadata": {
        "id": "228a3eb1"
      },
      "source": [
        "### Perform predictions on tests dataframe"
      ]
    },
    {
      "cell_type": "code",
      "execution_count": null,
      "id": "14f4aab5",
      "metadata": {
        "id": "14f4aab5"
      },
      "outputs": [],
      "source": [
        "predictions = model.transform(test_df)"
      ]
    },
    {
      "cell_type": "code",
      "source": [
        ""
      ],
      "metadata": {
        "id": "P2XtkmPFteye"
      },
      "id": "P2XtkmPFteye",
      "execution_count": null,
      "outputs": []
    },
    {
      "cell_type": "markdown",
      "id": "bce2885f",
      "metadata": {
        "id": "bce2885f"
      },
      "source": [
        "### Print the schema of the prediction dataframe"
      ]
    },
    {
      "cell_type": "code",
      "source": [
        "predictions.printSchema()"
      ],
      "metadata": {
        "colab": {
          "base_uri": "https://localhost:8080/"
        },
        "id": "qtOty27MtgHb",
        "outputId": "12454b88-6410-4652-c7da-0157bea8b764"
      },
      "id": "qtOty27MtgHb",
      "execution_count": null,
      "outputs": [
        {
          "output_type": "stream",
          "name": "stdout",
          "text": [
            "root\n",
            " |-- class: string (nullable = true)\n",
            " |-- text: string (nullable = true)\n",
            " |-- length: integer (nullable = true)\n",
            " |-- words: array (nullable = true)\n",
            " |    |-- element: string (containsNull = true)\n",
            " |-- ham_words: array (nullable = true)\n",
            " |    |-- element: string (containsNull = true)\n",
            " |-- vectors: vector (nullable = true)\n",
            " |-- features: vector (nullable = true)\n",
            " |-- indexed_class: double (nullable = false)\n",
            " |-- feature: vector (nullable = true)\n",
            " |-- rawPrediction: vector (nullable = true)\n",
            " |-- probability: vector (nullable = true)\n",
            " |-- prediction: double (nullable = false)\n",
            "\n"
          ]
        }
      ]
    },
    {
      "cell_type": "code",
      "execution_count": null,
      "id": "6e3ea341",
      "metadata": {
        "id": "6e3ea341",
        "outputId": "ca177912-4ce5-43ef-c7a1-3de0a8a24cce"
      },
      "outputs": [
        {
          "name": "stdout",
          "output_type": "stream",
          "text": [
            "root\n",
            " |-- class: string (nullable = true)\n",
            " |-- text: string (nullable = true)\n",
            " |-- length: integer (nullable = true)\n",
            " |-- label: double (nullable = false)\n",
            " |-- token_text: array (nullable = true)\n",
            " |    |-- element: string (containsNull = true)\n",
            " |-- stop_tokens: array (nullable = true)\n",
            " |    |-- element: string (containsNull = true)\n",
            " |-- c_vec: vector (nullable = true)\n",
            " |-- tf_idf: vector (nullable = true)\n",
            " |-- features: vector (nullable = true)\n",
            " |-- rawPrediction: vector (nullable = true)\n",
            " |-- probability: vector (nullable = true)\n",
            " |-- prediction: double (nullable = false)\n",
            "\n"
          ]
        }
      ],
      "source": [
        ""
      ]
    },
    {
      "cell_type": "markdown",
      "id": "57f27055",
      "metadata": {
        "id": "57f27055"
      },
      "source": [
        "## Model Evaluation\n",
        "- Use <b>MulticlassClassificationEvaluator</b> to calculate the <b>f1_score</b>."
      ]
    },
    {
      "cell_type": "code",
      "execution_count": null,
      "id": "61911086",
      "metadata": {
        "id": "61911086"
      },
      "outputs": [],
      "source": [
        ""
      ]
    },
    {
      "cell_type": "code",
      "execution_count": null,
      "metadata": {
        "id": "a7b5ad25"
      },
      "outputs": [],
      "source": [
        "from pyspark.ml.evaluation import MulticlassClassificationEvaluator"
      ],
      "id": "a7b5ad25"
    },
    {
      "cell_type": "code",
      "execution_count": null,
      "metadata": {
        "id": "44d3a1e6"
      },
      "outputs": [],
      "source": [
        "score = MulticlassClassificationEvaluator().setLabelCol(\"indexed_class\").setPredictionCol(\"prediction\").setMetricName(\"fMeasureByLabel\")"
      ],
      "id": "44d3a1e6"
    },
    {
      "cell_type": "code",
      "execution_count": null,
      "metadata": {
        "colab": {
          "base_uri": "https://localhost:8080/"
        },
        "id": "3adbe41f",
        "outputId": "2e386ba2-9dd9-4108-c275-0428c01648ae"
      },
      "outputs": [
        {
          "output_type": "execute_result",
          "data": {
            "text/plain": [
              "0.9963689179375453"
            ]
          },
          "metadata": {},
          "execution_count": 94
        }
      ],
      "source": [
        "\n",
        "score.evaluate(predictions)"
      ],
      "id": "3adbe41f"
    },
    {
      "cell_type": "markdown",
      "id": "e00e7b53",
      "metadata": {
        "id": "e00e7b53"
      },
      "source": [
        "# GOOD LUCK\n",
        "<b><font color='GREEN'>AI-PRO Spark Team ITI</font></b>"
      ]
    }
  ],
  "metadata": {
    "kernelspec": {
      "display_name": "Python 3",
      "language": "python",
      "name": "python3"
    },
    "language_info": {
      "codemirror_mode": {
        "name": "ipython",
        "version": 3
      },
      "file_extension": ".py",
      "mimetype": "text/x-python",
      "name": "python",
      "nbconvert_exporter": "python",
      "pygments_lexer": "ipython3",
      "version": "3.8.8"
    },
    "colab": {
      "name": "Asmaa_saeed- Spark and Python for Big Data Final Exam.ipynb",
      "provenance": [],
      "collapsed_sections": [],
      "toc_visible": true,
      "include_colab_link": true
    }
  },
  "nbformat": 4,
  "nbformat_minor": 5
}