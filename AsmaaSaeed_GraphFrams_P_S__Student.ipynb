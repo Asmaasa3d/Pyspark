{
  "cells": [
    {
      "cell_type": "markdown",
      "metadata": {
        "id": "view-in-github",
        "colab_type": "text"
      },
      "source": [
        "<a href=\"https://colab.research.google.com/github/Asmaasa3d/Pyspark/blob/main/AsmaaSaeed_GraphFrams_P_S__Student.ipynb\" target=\"_parent\"><img src=\"https://colab.research.google.com/assets/colab-badge.svg\" alt=\"Open In Colab\"/></a>"
      ]
    },
    {
      "cell_type": "markdown",
      "metadata": {
        "id": "779b346d"
      },
      "source": [
        "## The following section is for Colab Users.\n",
        "### Just run the following code cells"
      ],
      "id": "779b346d"
    },
    {
      "cell_type": "code",
      "execution_count": null,
      "metadata": {
        "colab": {
          "base_uri": "https://localhost:8080/"
        },
        "id": "7d73eb01",
        "outputId": "4767277b-d2f0-49fc-8846-28006c10fd3c"
      },
      "outputs": [
        {
          "name": "stdout",
          "output_type": "stream",
          "text": [
            "\u001b[K     |████████████████████████████████| 281.3 MB 43 kB/s \n",
            "\u001b[K     |████████████████████████████████| 199 kB 56.9 MB/s \n",
            "\u001b[K     |████████████████████████████████| 154 kB 42.7 MB/s \n",
            "\u001b[?25h  Building wheel for pyspark (setup.py) ... \u001b[?25l\u001b[?25hdone\n"
          ]
        }
      ],
      "source": [
        "!apt-get install openjdk-11-jdk-headless -qq > /dev/null\n",
        "!wget -q https://bitbucket.org/habedi/datasets/raw/b6769c4664e7ff68b001e2f43bc517888cbe3642/spark/spark-3.0.2-bin-hadoop2.7.tgz\n",
        "!tar xf spark-3.0.2-bin-hadoop2.7.tgz\n",
        "!rm -rf spark-3.0.2-bin-hadoop2.7.tgz*\n",
        "!pip -q install findspark pyspark graphframes"
      ],
      "id": "7d73eb01"
    },
    {
      "cell_type": "code",
      "execution_count": null,
      "metadata": {
        "colab": {
          "base_uri": "https://localhost:8080/"
        },
        "id": "299e0d6a",
        "outputId": "d0cd4b91-2f81-4cfa-d1f1-83c588e3549e"
      },
      "outputs": [
        {
          "name": "stdout",
          "output_type": "stream",
          "text": [
            "--2022-07-14 17:19:49--  https://repos.spark-packages.org/graphframes/graphframes/0.8.2-spark3.0-s_2.12/graphframes-0.8.2-spark3.0-s_2.12.jar\n",
            "Resolving repos.spark-packages.org (repos.spark-packages.org)... 13.226.253.60, 13.226.253.18, 13.226.253.43, ...\n",
            "Connecting to repos.spark-packages.org (repos.spark-packages.org)|13.226.253.60|:443... connected.\n",
            "HTTP request sent, awaiting response... 200 OK\n",
            "Length: 247882 (242K) [binary/octet-stream]\n",
            "Saving to: ‘/content/spark-3.0.2-bin-hadoop2.7/jars/graphframes-0.8.2-spark3.0-s_2.12.jar’\n",
            "\n",
            "\r          graphfram   0%[                    ]       0  --.-KB/s               \rgraphframes-0.8.2-s 100%[===================>] 242.07K  --.-KB/s    in 0.02s   \n",
            "\n",
            "2022-07-14 17:19:49 (9.63 MB/s) - ‘/content/spark-3.0.2-bin-hadoop2.7/jars/graphframes-0.8.2-spark3.0-s_2.12.jar’ saved [247882/247882]\n",
            "\n"
          ]
        }
      ],
      "source": [
        "!wget https://repos.spark-packages.org/graphframes/graphframes/0.8.2-spark3.0-s_2.12/graphframes-0.8.2-spark3.0-s_2.12.jar -P /content/spark-3.0.2-bin-hadoop2.7/jars/\n",
        "!cp /content/spark-3.0.2-bin-hadoop2.7/jars/graphframes-0.8.2-spark3.0-s_2.12.jar /content/spark-3.0.2-bin-hadoop2.7/graphframes-0.8.2-spark3.0-s_2.12.zip"
      ],
      "id": "299e0d6a"
    },
    {
      "cell_type": "code",
      "execution_count": null,
      "metadata": {
        "id": "ee0d39ec"
      },
      "outputs": [],
      "source": [
        "import os\n",
        "\n",
        "os.environ[\"JAVA_HOME\"] = \"/usr/lib/jvm/java-11-openjdk-amd64\"\n",
        "os.environ[\"SPARK_HOME\"] = \"/content/spark-3.0.2-bin-hadoop2.7\"\n",
        "os.environ[\"HADOOP_HOME\"] = os.environ[\"SPARK_HOME\"]\n",
        "\n",
        "os.environ[\"PYSPARK_DRIVER_PYTHON\"] = \"jupyter\"\n",
        "os.environ[\"PYSPARK_DRIVER_PYTHON_OPTS\"] = \"notebook\"\n",
        "os.environ[\"PYSPARK_SUBMIT_ARGS\"] = \"--master local[*] pyspark-shell\""
      ],
      "id": "ee0d39ec"
    },
    {
      "cell_type": "code",
      "execution_count": null,
      "metadata": {
        "id": "7136d8e6"
      },
      "outputs": [],
      "source": [
        "import findspark\n",
        "findspark.init()"
      ],
      "id": "7136d8e6"
    },
    {
      "cell_type": "code",
      "execution_count": null,
      "metadata": {
        "id": "92f3e19b"
      },
      "outputs": [],
      "source": [
        "!export PYSPARK_SUBMIT_ARGS=\"--master local[*] pyspark-shell\"\n",
        "!export PYSPARK_DRIVER_PYTHON=jupyter\n",
        "!export PYSPARK_DRIVER_PYTHON_OPTS=notebook"
      ],
      "id": "92f3e19b"
    },
    {
      "cell_type": "code",
      "execution_count": null,
      "metadata": {
        "id": "f1504ff4"
      },
      "outputs": [],
      "source": [
        "from pyspark.sql import SparkSession\n",
        "from graphframes import *\n",
        "\n",
        "spark = SparkSession.builder.master(\"local[*]\").appName(\"GraphFrames\").getOrCreate()"
      ],
      "id": "f1504ff4"
    },
    {
      "cell_type": "code",
      "execution_count": null,
      "metadata": {
        "id": "252db99a"
      },
      "outputs": [],
      "source": [
        "os.environ[\"PYSPARK_SUBMIT_ARGS\"] = \"--packages graphframes:graphframes:0.8.1-spark3.0-s_2.12 pyspark-shell\""
      ],
      "id": "252db99a"
    },
    {
      "cell_type": "markdown",
      "metadata": {
        "id": "66232934"
      },
      "source": [
        "**************************************************************************\n",
        "**************************************************************************\n",
        "**************************************************************************"
      ],
      "id": "66232934"
    },
    {
      "cell_type": "code",
      "execution_count": null,
      "metadata": {
        "id": "c90808ca"
      },
      "outputs": [],
      "source": [
        ""
      ],
      "id": "c90808ca"
    },
    {
      "cell_type": "code",
      "execution_count": null,
      "metadata": {
        "colab": {
          "base_uri": "https://localhost:8080/",
          "height": 17
        },
        "id": "2a0819b3",
        "outputId": "ff4bfa4f-991e-47df-9eb3-4d2505f69e4b"
      },
      "outputs": [
        {
          "data": {
            "text/html": [
              "<style>pre { white-space: pre !important; }</style>"
            ],
            "text/plain": [
              "<IPython.core.display.HTML object>"
            ]
          },
          "metadata": {},
          "output_type": "display_data"
        }
      ],
      "source": [
        "from IPython.display import display, HTML\n",
        "display(HTML(\"<style>pre { white-space: pre !important; }</style>\"))"
      ],
      "id": "2a0819b3"
    },
    {
      "cell_type": "markdown",
      "metadata": {
        "id": "d7f57da0"
      },
      "source": [
        "### Read departuredelays.csv in Edge DataFrame\n",
        "### Read airport-codes-na.txt in Vertix DataFrame (the separator is Tab i.e sep = '\\t' )"
      ],
      "id": "d7f57da0"
    },
    {
      "cell_type": "code",
      "execution_count": null,
      "metadata": {
        "id": "seT1u-kn_sv1"
      },
      "outputs": [],
      "source": [
        "\n",
        "Edge=spark.read.csv('/content/departuredelays.csv',header=True)\n",
        "Vertix=spark.read.csv('/content/airport-codes-na.txt', sep=\"\\t\",header=True)\n"
      ],
      "id": "seT1u-kn_sv1"
    },
    {
      "cell_type": "code",
      "execution_count": null,
      "metadata": {
        "colab": {
          "base_uri": "https://localhost:8080/"
        },
        "id": "o2nhN_Ec_0CO",
        "outputId": "998df416-9e39-4996-ef94-3db1f21dda0a"
      },
      "outputs": [
        {
          "name": "stdout",
          "output_type": "stream",
          "text": [
            "+--------+-----+--------+------+-----------+\n",
            "|    date|delay|distance|origin|destination|\n",
            "+--------+-----+--------+------+-----------+\n",
            "|01011245|    6|     602|   ABE|        ATL|\n",
            "|01020600|   -8|     369|   ABE|        DTW|\n",
            "|01021245|   -2|     602|   ABE|        ATL|\n",
            "|01020605|   -4|     602|   ABE|        ATL|\n",
            "|01031245|   -4|     602|   ABE|        ATL|\n",
            "|01030605|    0|     602|   ABE|        ATL|\n",
            "|01041243|   10|     602|   ABE|        ATL|\n",
            "|01040605|   28|     602|   ABE|        ATL|\n",
            "|01051245|   88|     602|   ABE|        ATL|\n",
            "|01050605|    9|     602|   ABE|        ATL|\n",
            "|01061215|   -6|     602|   ABE|        ATL|\n",
            "|01061725|   69|     602|   ABE|        ATL|\n",
            "|01061230|    0|     369|   ABE|        DTW|\n",
            "|01060625|   -3|     602|   ABE|        ATL|\n",
            "|01070600|    0|     369|   ABE|        DTW|\n",
            "|01071725|    0|     602|   ABE|        ATL|\n",
            "|01071230|    0|     369|   ABE|        DTW|\n",
            "|01070625|    0|     602|   ABE|        ATL|\n",
            "|01071219|    0|     569|   ABE|        ORD|\n",
            "|01080600|    0|     369|   ABE|        DTW|\n",
            "+--------+-----+--------+------+-----------+\n",
            "only showing top 20 rows\n",
            "\n"
          ]
        }
      ],
      "source": [
        "Edge.show()"
      ],
      "id": "o2nhN_Ec_0CO"
    },
    {
      "cell_type": "code",
      "execution_count": null,
      "metadata": {
        "colab": {
          "base_uri": "https://localhost:8080/"
        },
        "id": "jfJ5S2Oz5dfs",
        "outputId": "e2ed45ab-ba9d-4751-e0ee-b9252311c30f"
      },
      "outputs": [
        {
          "name": "stdout",
          "output_type": "stream",
          "text": [
            "+-----------+-----+-------+----+\n",
            "|       City|State|Country|IATA|\n",
            "+-----------+-----+-------+----+\n",
            "| Abbotsford|   BC| Canada| YXX|\n",
            "|   Aberdeen|   SD|    USA| ABR|\n",
            "|    Abilene|   TX|    USA| ABI|\n",
            "|      Akron|   OH|    USA| CAK|\n",
            "|    Alamosa|   CO|    USA| ALS|\n",
            "|     Albany|   GA|    USA| ABY|\n",
            "|     Albany|   NY|    USA| ALB|\n",
            "|Albuquerque|   NM|    USA| ABQ|\n",
            "| Alexandria|   LA|    USA| AEX|\n",
            "|  Allentown|   PA|    USA| ABE|\n",
            "|   Alliance|   NE|    USA| AIA|\n",
            "|     Alpena|   MI|    USA| APN|\n",
            "|    Altoona|   PA|    USA| AOO|\n",
            "|   Amarillo|   TX|    USA| AMA|\n",
            "|Anahim Lake|   BC| Canada| YAA|\n",
            "|  Anchorage|   AK|    USA| ANC|\n",
            "|   Appleton|   WI|    USA| ATW|\n",
            "|     Arviat|  NWT| Canada| YEK|\n",
            "|  Asheville|   NC|    USA| AVL|\n",
            "|      Aspen|   CO|    USA| ASE|\n",
            "+-----------+-----+-------+----+\n",
            "only showing top 20 rows\n",
            "\n"
          ]
        }
      ],
      "source": [
        "Vertix.show()"
      ],
      "id": "jfJ5S2Oz5dfs"
    },
    {
      "cell_type": "code",
      "execution_count": null,
      "metadata": {
        "id": "4U1IVvnh-HHa"
      },
      "outputs": [],
      "source": [
        ""
      ],
      "id": "4U1IVvnh-HHa"
    },
    {
      "cell_type": "markdown",
      "metadata": {
        "id": "631c334e"
      },
      "source": [
        "#### The US flight delays data set has five columns:\n",
        "- The <b>date</b> column contains an integer like 02190925 . When converted, this maps to 02-19 09:25 am.\n",
        "- The <b>delay</b> column gives the delay in minutes between the scheduled and actual departure times. Early departures show negative numbers.\n",
        "- The <b>distance</b> column gives the distance in miles from the origin airport to the destination airport.\n",
        "- The <b>origin</b> column contains the origin IATA airport code.\n",
        "- The <b>destination</b> column contains the destination IATA airport code.\n",
        "\n",
        "#### The airport-codes data set has four columns:\n",
        "- The <b>IATA</b> column contains IATA airport code.\n",
        "- The <b>City, State, and Country</b> columns contains information about the airport location. "
      ],
      "id": "631c334e"
    },
    {
      "cell_type": "code",
      "execution_count": null,
      "metadata": {
        "id": "30f02a5a"
      },
      "outputs": [],
      "source": [
        ""
      ],
      "id": "30f02a5a"
    },
    {
      "cell_type": "markdown",
      "metadata": {
        "id": "e1d90463"
      },
      "source": [
        "### In the vertix DataFrame, drop any duplicated rows with the same  IATA code."
      ],
      "id": "e1d90463"
    },
    {
      "cell_type": "code",
      "execution_count": null,
      "metadata": {
        "id": "15571db4"
      },
      "outputs": [],
      "source": [
        "Vertix2=Vertix.dropDuplicates(['IATA'])"
      ],
      "id": "15571db4"
    },
    {
      "cell_type": "code",
      "execution_count": null,
      "metadata": {
        "id": "gr9UEhKpAoqs"
      },
      "outputs": [],
      "source": [
        ""
      ],
      "id": "gr9UEhKpAoqs"
    },
    {
      "cell_type": "code",
      "execution_count": null,
      "metadata": {
        "id": "n3YkPHD3AoiB"
      },
      "outputs": [],
      "source": [
        ""
      ],
      "id": "n3YkPHD3AoiB"
    },
    {
      "cell_type": "markdown",
      "metadata": {
        "id": "83d1dea8"
      },
      "source": [
        "### In the edges DataFrame:\n",
        "- Rename the <b>date</b> columns to become <b>tripid</b>.\n",
        "- Rename the <b>origin</b> columns to become <b>src</b>.\n",
        "- Rename the <b>destination</b> columns to become <b>dst</b>."
      ],
      "id": "83d1dea8"
    },
    {
      "cell_type": "code",
      "execution_count": null,
      "metadata": {
        "id": "5319e844"
      },
      "outputs": [],
      "source": [
        "Edge2=Edge.withColumnRenamed('date','tripid').withColumnRenamed('origin','src').withColumnRenamed('destination','dst')\n"
      ],
      "id": "5319e844"
    },
    {
      "cell_type": "code",
      "execution_count": null,
      "metadata": {
        "colab": {
          "base_uri": "https://localhost:8080/"
        },
        "id": "6dosCS7gBmGd",
        "outputId": "64042627-0374-48ea-818c-3f17691cc10f"
      },
      "outputs": [
        {
          "name": "stdout",
          "output_type": "stream",
          "text": [
            "+--------+-----+--------+---+---+\n",
            "|  tripid|delay|distance|src|dst|\n",
            "+--------+-----+--------+---+---+\n",
            "|01011245|    6|     602|ABE|ATL|\n",
            "|01020600|   -8|     369|ABE|DTW|\n",
            "|01021245|   -2|     602|ABE|ATL|\n",
            "|01020605|   -4|     602|ABE|ATL|\n",
            "|01031245|   -4|     602|ABE|ATL|\n",
            "|01030605|    0|     602|ABE|ATL|\n",
            "|01041243|   10|     602|ABE|ATL|\n",
            "|01040605|   28|     602|ABE|ATL|\n",
            "|01051245|   88|     602|ABE|ATL|\n",
            "|01050605|    9|     602|ABE|ATL|\n",
            "|01061215|   -6|     602|ABE|ATL|\n",
            "|01061725|   69|     602|ABE|ATL|\n",
            "|01061230|    0|     369|ABE|DTW|\n",
            "|01060625|   -3|     602|ABE|ATL|\n",
            "|01070600|    0|     369|ABE|DTW|\n",
            "|01071725|    0|     602|ABE|ATL|\n",
            "|01071230|    0|     369|ABE|DTW|\n",
            "|01070625|    0|     602|ABE|ATL|\n",
            "|01071219|    0|     569|ABE|ORD|\n",
            "|01080600|    0|     369|ABE|DTW|\n",
            "+--------+-----+--------+---+---+\n",
            "only showing top 20 rows\n",
            "\n"
          ]
        }
      ],
      "source": [
        "Edge2.show()"
      ],
      "id": "6dosCS7gBmGd"
    },
    {
      "cell_type": "markdown",
      "metadata": {
        "id": "260660dc"
      },
      "source": [
        "### In the Vertix DataFrame:\n",
        "- Rename the <b>IATA</b> columns to become <b>id</b>."
      ],
      "id": "260660dc"
    },
    {
      "cell_type": "code",
      "execution_count": null,
      "metadata": {
        "id": "42846969",
        "scrolled": false
      },
      "outputs": [],
      "source": [
        "Vertix2=Vertix2.withColumnRenamed(\"IATA\",'id')"
      ],
      "id": "42846969"
    },
    {
      "cell_type": "code",
      "execution_count": null,
      "metadata": {
        "colab": {
          "base_uri": "https://localhost:8080/"
        },
        "id": "2Ee6SC5jB1rO",
        "outputId": "099b76ec-98a3-4833-ff87-0b2c2529f00a"
      },
      "outputs": [
        {
          "name": "stdout",
          "output_type": "stream",
          "text": [
            "+-------------------+-----+-------+---+\n",
            "|               City|State|Country| id|\n",
            "+-------------------+-----+-------+---+\n",
            "|         Binghamton|   NY|    USA|BGM|\n",
            "|            Lebanon|   NH|    USA|LEB|\n",
            "|           Montreal|   PQ| Canada|YUL|\n",
            "|         Dillingham|   AK|    USA|DLG|\n",
            "|International Falls|   MN|    USA|INL|\n",
            "|         Wolf Point|   MT|    USA|OLF|\n",
            "|        New Orleans|   LA|    USA|MSY|\n",
            "|            Toronto|   ON| Canada|YTO|\n",
            "|            Spokane|   WA|    USA|GEG|\n",
            "|              Havre|   MT|    USA|HVR|\n",
            "|            Burbank|   CA|    USA|BUR|\n",
            "|      Orange County|   CA|    USA|SNA|\n",
            "|             Dryden|   ON| Canada|YHD|\n",
            "|         Fort Dodge|   IA|    USA|FOD|\n",
            "|          Green Bay|   WI|    USA|GRB|\n",
            "|        Great Falls|   MT|    USA|GTF|\n",
            "|              Homer|   AK|    USA|HOM|\n",
            "|        Idaho Falls|   ID|    USA|IDA|\n",
            "|      Sioux Lookout|   ON| Canada|YXL|\n",
            "|       Grand Rapids|   MI|    USA|GRR|\n",
            "+-------------------+-----+-------+---+\n",
            "only showing top 20 rows\n",
            "\n"
          ]
        }
      ],
      "source": [
        "Vertix2.show()"
      ],
      "id": "2Ee6SC5jB1rO"
    },
    {
      "cell_type": "markdown",
      "metadata": {
        "id": "4b50a1fe"
      },
      "source": [
        "### Create GraphFrame from Vertix and Edges DataFrames"
      ],
      "id": "4b50a1fe"
    },
    {
      "cell_type": "code",
      "execution_count": null,
      "metadata": {
        "id": "72be9d09"
      },
      "outputs": [],
      "source": [
        "from graphframes import *\n",
        "graph=GraphFrame(Vertix2,Edge2)"
      ],
      "id": "72be9d09"
    },
    {
      "cell_type": "markdown",
      "metadata": {
        "id": "abd2ebc6"
      },
      "source": [
        "### Determine the number of airports"
      ],
      "id": "abd2ebc6"
    },
    {
      "cell_type": "code",
      "execution_count": null,
      "metadata": {
        "colab": {
          "base_uri": "https://localhost:8080/"
        },
        "id": "f38688c9",
        "outputId": "50a25fce-a851-4bd2-d10c-939f5b939b0a"
      },
      "outputs": [
        {
          "data": {
            "text/plain": [
              "524"
            ]
          },
          "execution_count": 21,
          "metadata": {},
          "output_type": "execute_result"
        }
      ],
      "source": [
        "graph.vertices.count()"
      ],
      "id": "f38688c9"
    },
    {
      "cell_type": "markdown",
      "metadata": {
        "id": "435187a8"
      },
      "source": [
        "### Determine the number of trips "
      ],
      "id": "435187a8"
    },
    {
      "cell_type": "code",
      "execution_count": null,
      "metadata": {
        "colab": {
          "base_uri": "https://localhost:8080/"
        },
        "id": "db2a507d",
        "outputId": "b04cd467-82d4-459b-9da2-3f3215c41606"
      },
      "outputs": [
        {
          "data": {
            "text/plain": [
              "393548"
            ]
          },
          "execution_count": 22,
          "metadata": {},
          "output_type": "execute_result"
        }
      ],
      "source": [
        "graph.edges.count()"
      ],
      "id": "db2a507d"
    },
    {
      "cell_type": "markdown",
      "metadata": {
        "id": "dec8731f"
      },
      "source": [
        "### What is the longest delay?"
      ],
      "id": "dec8731f"
    },
    {
      "cell_type": "code",
      "execution_count": null,
      "metadata": {
        "colab": {
          "base_uri": "https://localhost:8080/"
        },
        "id": "xLC5cIpoQkym",
        "outputId": "c8cda94b-9fa3-4299-84c9-d3c02387cff1"
      },
      "outputs": [
        {
          "data": {
            "text/plain": [
              "DataFrame[summary: string, date: string, delay: string, distance: string, origin: string, destination: string]"
            ]
          },
          "execution_count": 25,
          "metadata": {},
          "output_type": "execute_result"
        }
      ],
      "source": [
        "Edge.describe()\n"
      ],
      "id": "xLC5cIpoQkym"
    },
    {
      "cell_type": "code",
      "execution_count": null,
      "metadata": {
        "id": "P4tjSaYAQk52"
      },
      "outputs": [],
      "source": [
        "from pyspark.sql.types import IntegerType\n",
        "data_df = graph.edges.withColumn(\"delay\", graph.edges[\"delay\"].cast(IntegerType()))"
      ],
      "id": "P4tjSaYAQk52"
    },
    {
      "cell_type": "code",
      "execution_count": null,
      "metadata": {
        "colab": {
          "base_uri": "https://localhost:8080/"
        },
        "id": "df3d6aac",
        "outputId": "d760c828-144c-4635-97fb-69122e610898"
      },
      "outputs": [
        {
          "name": "stdout",
          "output_type": "stream",
          "text": [
            "+----------+\n",
            "|max(delay)|\n",
            "+----------+\n",
            "|      1560|\n",
            "+----------+\n",
            "\n"
          ]
        }
      ],
      "source": [
        "data_df.groupBy().max('delay').show()"
      ],
      "id": "df3d6aac"
    },
    {
      "cell_type": "code",
      "execution_count": null,
      "metadata": {
        "id": "j8hvqxPZSejX"
      },
      "outputs": [],
      "source": [
        ""
      ],
      "id": "j8hvqxPZSejX"
    },
    {
      "cell_type": "markdown",
      "metadata": {
        "id": "202d888c"
      },
      "source": [
        "### Find out the number of delayed flights vs. early flights (flights that departed before actual time)"
      ],
      "id": "202d888c"
    },
    {
      "cell_type": "code",
      "execution_count": null,
      "metadata": {
        "colab": {
          "base_uri": "https://localhost:8080/"
        },
        "id": "7cdd7ff7",
        "outputId": "92c61879-00b6-419e-fbe4-2f879b25bbac"
      },
      "outputs": [
        {
          "data": {
            "text/plain": [
              "178976"
            ]
          },
          "execution_count": 26,
          "metadata": {},
          "output_type": "execute_result"
        }
      ],
      "source": [
        "data_df.filter('delay>0').count()"
      ],
      "id": "7cdd7ff7"
    },
    {
      "cell_type": "code",
      "execution_count": null,
      "metadata": {
        "colab": {
          "base_uri": "https://localhost:8080/"
        },
        "id": "kBB7poWuS0Ui",
        "outputId": "55fd6084-6a66-45a7-b6b2-b93616219c09"
      },
      "outputs": [
        {
          "data": {
            "text/plain": [
              "168962"
            ]
          },
          "execution_count": 27,
          "metadata": {},
          "output_type": "execute_result"
        }
      ],
      "source": [
        "data_df.filter('delay<0').count()"
      ],
      "id": "kBB7poWuS0Ui"
    },
    {
      "cell_type": "code",
      "execution_count": null,
      "metadata": {
        "id": "YZgMK1j4S0Nw"
      },
      "outputs": [],
      "source": [
        ""
      ],
      "id": "YZgMK1j4S0Nw"
    },
    {
      "cell_type": "markdown",
      "metadata": {
        "id": "30961bc3"
      },
      "source": [
        "### What flight destinations departing SFO are most likely to have significant delays? Select the top 10\n",
        "#### Hint: you should get the average delay for each destination for trips that depart from SFO only"
      ],
      "id": "30961bc3"
    },
    {
      "cell_type": "code",
      "execution_count": null,
      "metadata": {
        "colab": {
          "base_uri": "https://localhost:8080/"
        },
        "id": "Sub0kpCzwoi1",
        "outputId": "38331e86-6bc0-4576-cb02-0bb363c03345"
      },
      "outputs": [
        {
          "name": "stdout",
          "output_type": "stream",
          "text": [
            "+---+----------+\n",
            "|dst|avg(delay)|\n",
            "+---+----------+\n",
            "+---+----------+\n",
            "\n"
          ]
        }
      ],
      "source": [
        "data_df = graph.edges.withColumn(\"delay\", graph.edges[\"delay\"].cast(IntegerType()))\n",
        "data_df.filter('src=\"SFO\"').groupBy('dst').avg('delay').orderBy('avg(delay)',ascending=False).limit(10).show()\n",
        "\n"
      ],
      "id": "Sub0kpCzwoi1"
    },
    {
      "cell_type": "code",
      "execution_count": null,
      "metadata": {
        "colab": {
          "base_uri": "https://localhost:8080/"
        },
        "id": "afdc6842",
        "outputId": "cc61ec36-c2c7-4748-a5e7-16edbe8a3405"
      },
      "outputs": [
        {
          "name": "stdout",
          "output_type": "stream",
          "text": [
            "+---+------------------+\n",
            "|src|        avg(delay)|\n",
            "+---+------------------+\n",
            "|MDW| 39.16393442622951|\n",
            "|MKE| 34.57142857142857|\n",
            "|PIT|28.466666666666665|\n",
            "|ORD|27.656996587030715|\n",
            "|JAC|23.555555555555557|\n",
            "|CVG|23.333333333333332|\n",
            "|MCO| 22.61904761904762|\n",
            "|DEN|22.470238095238095|\n",
            "|KOA| 21.79032258064516|\n",
            "|EWR| 21.66497461928934|\n",
            "+---+------------------+\n",
            "\n"
          ]
        }
      ],
      "source": [
        "## destination from sfo\n",
        "## avg delay\n",
        "## top 10\n",
        "data_df = graph.edges.withColumn(\"delay\", graph.edges[\"delay\"].cast(IntegerType()))\n",
        "data_df.filter('dst=\"SFO\"').groupBy('src').avg('delay').orderBy('avg(delay)',ascending=False).limit(10).show()\n",
        "\n",
        "\n"
      ],
      "id": "afdc6842"
    },
    {
      "cell_type": "code",
      "execution_count": null,
      "metadata": {
        "id": "ellheW7bwogL"
      },
      "outputs": [],
      "source": [
        ""
      ],
      "id": "ellheW7bwogL"
    },
    {
      "cell_type": "markdown",
      "metadata": {
        "id": "71d46665"
      },
      "source": [
        "### Find the Incoming connections to the airport sorted in Desc. order."
      ],
      "id": "71d46665"
    },
    {
      "cell_type": "code",
      "execution_count": null,
      "metadata": {
        "colab": {
          "base_uri": "https://localhost:8080/"
        },
        "id": "c28925c3",
        "outputId": "41d2a0ab-926a-4577-eafc-41e1c2319b5b"
      },
      "outputs": [
        {
          "name": "stdout",
          "output_type": "stream",
          "text": [
            "+---+--------+\n",
            "| id|inDegree|\n",
            "+---+--------+\n",
            "|ATL|   15796|\n",
            "|DFW|   11805|\n",
            "|ORD|   11505|\n",
            "|LAX|    8092|\n",
            "|DEN|    8045|\n",
            "|IAH|    7551|\n",
            "|SFO|    7116|\n",
            "|PHX|    6505|\n",
            "|MCO|    5905|\n",
            "|MIA|    5048|\n",
            "|LAS|    5026|\n",
            "|CLT|    4997|\n",
            "|LGA|    4853|\n",
            "|EWR|    4853|\n",
            "|SLC|    4470|\n",
            "|BOS|    4424|\n",
            "|FLL|    4225|\n",
            "|BWI|    4103|\n",
            "|SEA|    3865|\n",
            "|JFK|    3860|\n",
            "+---+--------+\n",
            "only showing top 20 rows\n",
            "\n"
          ]
        }
      ],
      "source": [
        "graph.inDegrees.orderBy('inDegree',ascending=False).show()"
      ],
      "id": "c28925c3"
    },
    {
      "cell_type": "markdown",
      "metadata": {
        "id": "d1b6509d"
      },
      "source": [
        "### Find the Outgoing connections from the airport sorted in Desc. order."
      ],
      "id": "d1b6509d"
    },
    {
      "cell_type": "code",
      "execution_count": null,
      "metadata": {
        "colab": {
          "base_uri": "https://localhost:8080/"
        },
        "id": "631af51d",
        "outputId": "eadccabd-1e5b-493a-ef6d-5cdfd64f21e5"
      },
      "outputs": [
        {
          "name": "stdout",
          "output_type": "stream",
          "text": [
            "+---+---------+\n",
            "| id|outDegree|\n",
            "+---+---------+\n",
            "|ATL|    30796|\n",
            "|DFW|    23488|\n",
            "|ORD|    21497|\n",
            "|LAX|    18481|\n",
            "|DEN|    17977|\n",
            "|IAH|    14581|\n",
            "|PHX|    13343|\n",
            "|LAS|    11050|\n",
            "|CLT|     9768|\n",
            "|EWR|     9267|\n",
            "|MCO|     9206|\n",
            "|LGA|     8530|\n",
            "|BOS|     8274|\n",
            "|MSP|     8085|\n",
            "|JFK|     7878|\n",
            "|DTW|     7542|\n",
            "|MIA|     7436|\n",
            "|BWI|     7177|\n",
            "|MDW|     6584|\n",
            "|PHL|     6022|\n",
            "+---+---------+\n",
            "only showing top 20 rows\n",
            "\n"
          ]
        }
      ],
      "source": [
        "graph.outDegrees.orderBy('outDegree',ascending=False).show()"
      ],
      "id": "631af51d"
    },
    {
      "cell_type": "markdown",
      "metadata": {
        "id": "fbec58ce"
      },
      "source": [
        "### Use motif finding to answer this question: which delays could we blame on SFO?\n",
        "#### Hint: this practically means that SFO is a transit station"
      ],
      "id": "fbec58ce"
    },
    {
      "cell_type": "code",
      "execution_count": null,
      "metadata": {
        "id": "db17f3df"
      },
      "outputs": [],
      "source": [
        ""
      ],
      "id": "db17f3df"
    },
    {
      "cell_type": "markdown",
      "metadata": {
        "id": "cc1ece96"
      },
      "source": [
        "### Determine Airport Ranking in Desc. order using PageRank algorithm"
      ],
      "id": "cc1ece96"
    },
    {
      "cell_type": "code",
      "execution_count": null,
      "metadata": {
        "id": "f754d545"
      },
      "outputs": [],
      "source": [
        ""
      ],
      "id": "f754d545"
    },
    {
      "cell_type": "code",
      "execution_count": null,
      "metadata": {
        "id": "485790ae"
      },
      "outputs": [],
      "source": [
        "g2 = graph.pageRank(maxIter=2)"
      ],
      "id": "485790ae"
    },
    {
      "cell_type": "code",
      "execution_count": null,
      "metadata": {
        "colab": {
          "base_uri": "https://localhost:8080/"
        },
        "id": "8bd0b37f",
        "outputId": "493fbbed-dfc7-4876-e4e0-e6a819bab8e9"
      },
      "outputs": [
        {
          "name": "stdout",
          "output_type": "stream",
          "text": [
            "+--------------+-----+-------+---+------------------+\n",
            "|          City|State|Country| id|          pagerank|\n",
            "+--------------+-----+-------+---+------------------+\n",
            "|       Atlanta|   GA|    USA|ATL| 19.71577821415476|\n",
            "|        Dallas|   TX|    USA|DFW|14.356760871441308|\n",
            "|       Chicago|   IL|    USA|ORD|14.073591932462298|\n",
            "|        Denver|   CO|    USA|DEN|10.968597859027877|\n",
            "|   Los Angeles|   CA|    USA|LAX| 9.723007597707323|\n",
            "|       Houston|   TX|    USA|IAH|  9.04778644837982|\n",
            "| San Francisco|   CA|    USA|SFO| 8.858875455445812|\n",
            "|       Seattle|   WA|    USA|SEA| 8.015094796164892|\n",
            "|       Phoenix|   AZ|    USA|PHX|  7.67507816265702|\n",
            "|      New York|   NY|    USA|LGA| 7.249373803354643|\n",
            "|Salt Lake City|   UT|    USA|SLC| 7.137404735654444|\n",
            "|     Charlotte|   NC|    USA|CLT| 6.807949878001013|\n",
            "|       Orlando|   FL|    USA|MCO| 6.506107279792788|\n",
            "|   Minneapolis|   MN|    USA|MSP| 6.339419482786053|\n",
            "|     Las Vegas|   NV|    USA|LAS| 6.145145028576017|\n",
            "|       Detroit|   MI|    USA|DTW| 5.914947879687934|\n",
            "|        Newark|   NJ|    USA|EWR| 5.895009210270176|\n",
            "|        Boston|   MA|    USA|BOS| 5.665598847228809|\n",
            "|         Miami|   FL|    USA|MIA| 5.420629394817934|\n",
            "|     Baltimore|   MD|    USA|BWI| 4.834697063904553|\n",
            "+--------------+-----+-------+---+------------------+\n",
            "only showing top 20 rows\n",
            "\n"
          ]
        }
      ],
      "source": [
        "g2.vertices.orderBy('pagerank',ascending=False).show()"
      ],
      "id": "8bd0b37f"
    },
    {
      "cell_type": "markdown",
      "metadata": {
        "id": "fe1e7648"
      },
      "source": [
        "## Determine the most popular flights (single city hops)"
      ],
      "id": "fe1e7648"
    },
    {
      "cell_type": "code",
      "execution_count": null,
      "metadata": {
        "colab": {
          "background_save": true
        },
        "id": "da4b3306",
        "outputId": "bbf0b201-f71c-4b4c-dd88-aa343efdc1c8"
      },
      "outputs": [
        {
          "name": "stdout",
          "output_type": "stream",
          "text": [
            "+---+---+-----+\n",
            "|src|dst|count|\n",
            "+---+---+-----+\n",
            "|ATL|GSP|  180|\n",
            "|BQN|MCO|   31|\n",
            "|CLE|SJU|    5|\n",
            "|DSM|EWR|   23|\n",
            "|EWR|STT|   32|\n",
            "|FSD|ATL|   30|\n",
            "|LAS|LIT|   31|\n",
            "|LBB|DEN|   63|\n",
            "|MCI|IAH|  212|\n",
            "|MCI|MKE|   55|\n",
            "|MDW|MEM|   62|\n",
            "|ORD|PDX|  195|\n",
            "|PBI|DCA|   48|\n",
            "|PHL|MCO|  397|\n",
            "|ROC|CLE|   16|\n",
            "|AUS|ELP|   62|\n",
            "|BMI|MCO|    9|\n",
            "|CAE|ATL|  233|\n",
            "|CLE|MCI|   52|\n",
            "|CPR|DEN|  117|\n",
            "+---+---+-----+\n",
            "only showing top 20 rows\n",
            "\n"
          ]
        }
      ],
      "source": [
        "graph.edges.groupBy('src','dst').count().show()"
      ],
      "id": "da4b3306"
    },
    {
      "cell_type": "markdown",
      "metadata": {
        "id": "8ebb5e18"
      },
      "source": [
        "### Find and Save a Subragph that obtained from the following pattern:\n",
        "#### The flight starts from an airport and return back to the same airport through 2 other airports."
      ],
      "id": "8ebb5e18"
    },
    {
      "cell_type": "code",
      "execution_count": null,
      "metadata": {
        "id": "00361946"
      },
      "outputs": [],
      "source": [
        "g2=graph.find('(v1)-[e1]->(v2);(v2)-[e2]->(v3);(v3)-[e3]->(v1)')\n",
        "g2.show()"
      ],
      "id": "00361946"
    },
    {
      "cell_type": "code",
      "execution_count": null,
      "metadata": {
        "id": "F3SF6Gdjy_NC"
      },
      "outputs": [],
      "source": [
        "g2.select('v1.id','v2.id','v3.id').count()"
      ],
      "id": "F3SF6Gdjy_NC"
    },
    {
      "cell_type": "code",
      "execution_count": null,
      "metadata": {
        "id": "Ks2iVfs3zq6U"
      },
      "outputs": [],
      "source": [
        ""
      ],
      "id": "Ks2iVfs3zq6U"
    }
  ],
  "metadata": {
    "colab": {
      "name": "AsmaaSaeed_GraphFrams_P.S._Student.ipynb",
      "provenance": [],
      "include_colab_link": true
    },
    "kernelspec": {
      "display_name": "Python 3 (ipykernel)",
      "language": "python",
      "name": "python3"
    },
    "language_info": {
      "codemirror_mode": {
        "name": "ipython",
        "version": 3
      },
      "file_extension": ".py",
      "mimetype": "text/x-python",
      "name": "python",
      "nbconvert_exporter": "python",
      "pygments_lexer": "ipython3",
      "version": "3.9.12"
    }
  },
  "nbformat": 4,
  "nbformat_minor": 5
}