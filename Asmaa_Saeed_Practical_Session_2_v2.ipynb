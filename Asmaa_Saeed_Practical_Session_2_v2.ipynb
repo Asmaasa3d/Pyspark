{
  "cells": [
    {
      "cell_type": "markdown",
      "metadata": {
        "id": "view-in-github",
        "colab_type": "text"
      },
      "source": [
        "<a href=\"https://colab.research.google.com/github/Asmaasa3d/Pyspark/blob/main/Asmaa_Saeed_Practical_Session_2_v2.ipynb\" target=\"_parent\"><img src=\"https://colab.research.google.com/assets/colab-badge.svg\" alt=\"Open In Colab\"/></a>"
      ]
    },
    {
      "cell_type": "markdown",
      "metadata": {
        "id": "s45YhKVb0DgL"
      },
      "source": [
        "# Lab 2 PySpark:\n",
        "\n",
        "### Machine Learning"
      ]
    },
    {
      "cell_type": "markdown",
      "metadata": {
        "id": "qT3qxyZA0DgR"
      },
      "source": [
        "#### But first, let's do some SQL :)"
      ]
    },
    {
      "cell_type": "markdown",
      "metadata": {
        "id": "QVCipjFL0Dgk"
      },
      "source": [
        "**First, install and import PySPark and SparkSession**"
      ]
    },
    {
      "cell_type": "code",
      "execution_count": null,
      "metadata": {
        "colab": {
          "base_uri": "https://localhost:8080/"
        },
        "id": "USnqwFgz0Dgo",
        "outputId": "a20eb5f3-eac0-432d-b96c-bf27eabca275"
      },
      "outputs": [
        {
          "output_type": "stream",
          "name": "stdout",
          "text": [
            "Looking in indexes: https://pypi.org/simple, https://us-python.pkg.dev/colab-wheels/public/simple/\n",
            "Collecting pyspark\n",
            "  Downloading pyspark-3.2.1.tar.gz (281.4 MB)\n",
            "\u001b[K     |████████████████████████████████| 281.4 MB 30 kB/s \n",
            "\u001b[?25hCollecting py4j==0.10.9.3\n",
            "  Downloading py4j-0.10.9.3-py2.py3-none-any.whl (198 kB)\n",
            "\u001b[K     |████████████████████████████████| 198 kB 49.8 MB/s \n",
            "\u001b[?25hBuilding wheels for collected packages: pyspark\n",
            "  Building wheel for pyspark (setup.py) ... \u001b[?25l\u001b[?25hdone\n",
            "  Created wheel for pyspark: filename=pyspark-3.2.1-py2.py3-none-any.whl size=281853642 sha256=0bccdc07b30d89ee1da454d9fd0e0de6e24331f4712842dd69982d7e7f5cec85\n",
            "  Stored in directory: /root/.cache/pip/wheels/9f/f5/07/7cd8017084dce4e93e84e92efd1e1d5334db05f2e83bcef74f\n",
            "Successfully built pyspark\n",
            "Installing collected packages: py4j, pyspark\n",
            "Successfully installed py4j-0.10.9.3 pyspark-3.2.1\n"
          ]
        }
      ],
      "source": [
        "!pip install pyspark"
      ]
    },
    {
      "cell_type": "code",
      "execution_count": null,
      "metadata": {
        "id": "azAuOtA00Dgq"
      },
      "outputs": [],
      "source": [
        "import pyspark\n",
        "from pyspark.sql import SparkSession"
      ]
    },
    {
      "cell_type": "markdown",
      "metadata": {
        "id": "eJigykO30Dgr"
      },
      "source": [
        "**Now, download the dataset**"
      ]
    },
    {
      "cell_type": "code",
      "execution_count": null,
      "metadata": {
        "colab": {
          "base_uri": "https://localhost:8080/"
        },
        "id": "_AjXbNk70Dgu",
        "outputId": "02b29a5d-bbee-4c2d-d0d7-4513896f427e"
      },
      "outputs": [
        {
          "output_type": "stream",
          "name": "stdout",
          "text": [
            "Downloading...\n",
            "From: https://drive.google.com/uc?id=1PB6wBDVTM_eocxOyi0lWlLBQOlH0rLe_\n",
            "To: /content/PatientInfo.csv\n",
            "\r  0% 0.00/489k [00:00<?, ?B/s]\r100% 489k/489k [00:00<00:00, 116MB/s]\n"
          ]
        }
      ],
      "source": [
        "!gdown https://drive.google.com/uc?id=1PB6wBDVTM_eocxOyi0lWlLBQOlH0rLe_ -O PatientInfo.csv"
      ]
    },
    {
      "cell_type": "markdown",
      "metadata": {
        "id": "VHRcgAxE0Dgx"
      },
      "source": [
        "**Create a SparkSession object and name the app \"Lab2\"**"
      ]
    },
    {
      "cell_type": "code",
      "execution_count": null,
      "metadata": {
        "id": "Q42fGXBI0Dg0"
      },
      "outputs": [],
      "source": [
        "spark=SparkSession.builder.appName('Lab2').getOrCreate()"
      ]
    },
    {
      "cell_type": "markdown",
      "metadata": {
        "id": "LpgeiuM20Dg3"
      },
      "source": [
        "**1. Read the file PatientInfo.csv into a dataframe**"
      ]
    },
    {
      "cell_type": "code",
      "execution_count": null,
      "metadata": {
        "id": "FYU8Vr7W0Dg7"
      },
      "outputs": [],
      "source": [
        "df=spark.read.csv('/content/PatientInfo.csv',header=True,inferSchema=True)"
      ]
    },
    {
      "cell_type": "markdown",
      "metadata": {
        "id": "SbFdBjdG0Dg-"
      },
      "source": [
        "**Show the first 5 lines of the dataframe**"
      ]
    },
    {
      "cell_type": "code",
      "source": [
        "df.printSchema()"
      ],
      "metadata": {
        "colab": {
          "base_uri": "https://localhost:8080/"
        },
        "id": "4Mu2bLMr5Shq",
        "outputId": "64db6321-c425-4bb7-fe3e-0242f4702c4e"
      },
      "execution_count": null,
      "outputs": [
        {
          "output_type": "stream",
          "name": "stdout",
          "text": [
            "root\n",
            " |-- patient_id: long (nullable = true)\n",
            " |-- sex: string (nullable = true)\n",
            " |-- age: string (nullable = true)\n",
            " |-- country: string (nullable = true)\n",
            " |-- province: string (nullable = true)\n",
            " |-- city: string (nullable = true)\n",
            " |-- infection_case: string (nullable = true)\n",
            " |-- infected_by: string (nullable = true)\n",
            " |-- contact_number: string (nullable = true)\n",
            " |-- symptom_onset_date: string (nullable = true)\n",
            " |-- confirmed_date: string (nullable = true)\n",
            " |-- released_date: string (nullable = true)\n",
            " |-- deceased_date: string (nullable = true)\n",
            " |-- state: string (nullable = true)\n",
            "\n"
          ]
        }
      ]
    },
    {
      "cell_type": "code",
      "execution_count": null,
      "metadata": {
        "colab": {
          "base_uri": "https://localhost:8080/"
        },
        "id": "rLNghQPG0DhA",
        "outputId": "0db1ce5a-7703-4fcd-d2a0-d074a21dcb09"
      },
      "outputs": [
        {
          "output_type": "stream",
          "name": "stdout",
          "text": [
            "+----------+------+---+-------+--------+-----------+--------------------+-----------+--------------+------------------+--------------+-------------+-------------+--------+\n",
            "|patient_id|   sex|age|country|province|       city|      infection_case|infected_by|contact_number|symptom_onset_date|confirmed_date|released_date|deceased_date|   state|\n",
            "+----------+------+---+-------+--------+-----------+--------------------+-----------+--------------+------------------+--------------+-------------+-------------+--------+\n",
            "|1000000001|  male|50s|  Korea|   Seoul| Gangseo-gu|     overseas inflow|       null|            75|        2020-01-22|    2020-01-23|   2020-02-05|         null|released|\n",
            "|1000000002|  male|30s|  Korea|   Seoul|Jungnang-gu|     overseas inflow|       null|            31|              null|    2020-01-30|   2020-03-02|         null|released|\n",
            "|1000000003|  male|50s|  Korea|   Seoul|  Jongno-gu|contact with patient| 2002000001|            17|              null|    2020-01-30|   2020-02-19|         null|released|\n",
            "|1000000004|  male|20s|  Korea|   Seoul|    Mapo-gu|     overseas inflow|       null|             9|        2020-01-26|    2020-01-30|   2020-02-15|         null|released|\n",
            "|1000000005|female|20s|  Korea|   Seoul|Seongbuk-gu|contact with patient| 1000000002|             2|              null|    2020-01-31|   2020-02-24|         null|released|\n",
            "+----------+------+---+-------+--------+-----------+--------------------+-----------+--------------+------------------+--------------+-------------+-------------+--------+\n",
            "only showing top 5 rows\n",
            "\n"
          ]
        }
      ],
      "source": [
        "df.show(5)"
      ]
    },
    {
      "cell_type": "markdown",
      "metadata": {
        "id": "Ad-tQIVz0DhB"
      },
      "source": [
        "**Now do the same but using SQL select statement**"
      ]
    },
    {
      "cell_type": "markdown",
      "metadata": {
        "id": "kDj_lxvq0DhB"
      },
      "source": [
        "1. Create a temporary view (table) called patients"
      ]
    },
    {
      "cell_type": "code",
      "execution_count": null,
      "metadata": {
        "id": "H-nRVZgg0DhD"
      },
      "outputs": [],
      "source": [
        "df.createOrReplaceTempView(\"patients\")"
      ]
    },
    {
      "cell_type": "markdown",
      "metadata": {
        "id": "FVsxnn_60DhG"
      },
      "source": [
        "2. Use SELECT statement to select all columns from the dataframe"
      ]
    },
    {
      "cell_type": "code",
      "execution_count": null,
      "metadata": {
        "colab": {
          "base_uri": "https://localhost:8080/"
        },
        "id": "gWJ4VzWq0DhO",
        "outputId": "59a13a27-f7ac-482f-a832-b3f77692f959"
      },
      "outputs": [
        {
          "output_type": "stream",
          "name": "stdout",
          "text": [
            "+----------+------+---+-------+--------+------------+--------------------+-----------+--------------+------------------+--------------+-------------+-------------+--------+\n",
            "|patient_id|   sex|age|country|province|        city|      infection_case|infected_by|contact_number|symptom_onset_date|confirmed_date|released_date|deceased_date|   state|\n",
            "+----------+------+---+-------+--------+------------+--------------------+-----------+--------------+------------------+--------------+-------------+-------------+--------+\n",
            "|1000000001|  male|50s|  Korea|   Seoul|  Gangseo-gu|     overseas inflow|       null|            75|        2020-01-22|    2020-01-23|   2020-02-05|         null|released|\n",
            "|1000000002|  male|30s|  Korea|   Seoul| Jungnang-gu|     overseas inflow|       null|            31|              null|    2020-01-30|   2020-03-02|         null|released|\n",
            "|1000000003|  male|50s|  Korea|   Seoul|   Jongno-gu|contact with patient| 2002000001|            17|              null|    2020-01-30|   2020-02-19|         null|released|\n",
            "|1000000004|  male|20s|  Korea|   Seoul|     Mapo-gu|     overseas inflow|       null|             9|        2020-01-26|    2020-01-30|   2020-02-15|         null|released|\n",
            "|1000000005|female|20s|  Korea|   Seoul| Seongbuk-gu|contact with patient| 1000000002|             2|              null|    2020-01-31|   2020-02-24|         null|released|\n",
            "|1000000006|female|50s|  Korea|   Seoul|   Jongno-gu|contact with patient| 1000000003|            43|              null|    2020-01-31|   2020-02-19|         null|released|\n",
            "|1000000007|  male|20s|  Korea|   Seoul|   Jongno-gu|contact with patient| 1000000003|             0|              null|    2020-01-31|   2020-02-10|         null|released|\n",
            "|1000000008|  male|20s|  Korea|   Seoul|         etc|     overseas inflow|       null|             0|              null|    2020-02-02|   2020-02-24|         null|released|\n",
            "|1000000009|  male|30s|  Korea|   Seoul|   Songpa-gu|     overseas inflow|       null|            68|              null|    2020-02-05|   2020-02-21|         null|released|\n",
            "|1000000010|female|60s|  Korea|   Seoul| Seongbuk-gu|contact with patient| 1000000003|             6|              null|    2020-02-05|   2020-02-29|         null|released|\n",
            "|1000000011|female|50s|  China|   Seoul|Seodaemun-gu|     overseas inflow|       null|            23|              null|    2020-02-06|   2020-02-29|         null|released|\n",
            "|1000000012|  male|20s|  Korea|   Seoul|         etc|     overseas inflow|       null|             0|              null|    2020-02-07|   2020-02-27|         null|released|\n",
            "|1000000013|  male|80s|  Korea|   Seoul|   Jongno-gu|contact with patient| 1000000017|           117|              null|    2020-02-16|         null|         null|deceased|\n",
            "|1000000014|female|60s|  Korea|   Seoul|   Jongno-gu|contact with patient| 1000000013|            27|        2020-02-06|    2020-02-16|   2020-03-12|         null|released|\n",
            "|1000000015|  male|70s|  Korea|   Seoul|Seongdong-gu|    Seongdong-gu APT|       null|             8|        2020-02-11|    2020-02-19|         null|         null|released|\n",
            "|1000000016|  male|70s|  Korea|   Seoul|   Jongno-gu|contact with patient| 1000000017|          null|              null|    2020-02-19|   2020-03-11|         null|released|\n",
            "|1000000017|  male|70s|  Korea|   Seoul|   Jongno-gu|contact with patient| 1000000003|          null|              null|    2020-02-20|   2020-03-01|         null|released|\n",
            "|1000000018|  male|20s|  Korea|   Seoul|         etc|                 etc|       null|          null|              null|    2020-02-20|         null|         null|released|\n",
            "|1000000019|female|70s|  Korea|   Seoul|   Jongno-gu|contact with patient| 1000000021|          null|              null|    2020-02-20|   2020-03-08|         null|released|\n",
            "|1000000020|female|70s|  Korea|   Seoul|Seongdong-gu|    Seongdong-gu APT| 1000000015|          null|              null|    2020-02-20|         null|         null|released|\n",
            "+----------+------+---+-------+--------+------------+--------------------+-----------+--------------+------------------+--------------+-------------+-------------+--------+\n",
            "only showing top 20 rows\n",
            "\n"
          ]
        }
      ],
      "source": [
        "spark.sql(\"SELECT * from patients\").show()"
      ]
    },
    {
      "cell_type": "markdown",
      "metadata": {
        "id": "1pCRm6a-0DhP"
      },
      "source": [
        "3. Limit the output to only 5 rows *using SQL commands*"
      ]
    },
    {
      "cell_type": "code",
      "execution_count": null,
      "metadata": {
        "colab": {
          "base_uri": "https://localhost:8080/"
        },
        "id": "rPzmbXBl0DhQ",
        "outputId": "30dda95e-bea2-43e7-f3c9-e866eae7ef7c"
      },
      "outputs": [
        {
          "output_type": "stream",
          "name": "stdout",
          "text": [
            "+----------+------+---+-------+--------+-----------+--------------------+-----------+--------------+------------------+--------------+-------------+-------------+--------+\n",
            "|patient_id|   sex|age|country|province|       city|      infection_case|infected_by|contact_number|symptom_onset_date|confirmed_date|released_date|deceased_date|   state|\n",
            "+----------+------+---+-------+--------+-----------+--------------------+-----------+--------------+------------------+--------------+-------------+-------------+--------+\n",
            "|1000000001|  male|50s|  Korea|   Seoul| Gangseo-gu|     overseas inflow|       null|            75|        2020-01-22|    2020-01-23|   2020-02-05|         null|released|\n",
            "|1000000002|  male|30s|  Korea|   Seoul|Jungnang-gu|     overseas inflow|       null|            31|              null|    2020-01-30|   2020-03-02|         null|released|\n",
            "|1000000003|  male|50s|  Korea|   Seoul|  Jongno-gu|contact with patient| 2002000001|            17|              null|    2020-01-30|   2020-02-19|         null|released|\n",
            "|1000000004|  male|20s|  Korea|   Seoul|    Mapo-gu|     overseas inflow|       null|             9|        2020-01-26|    2020-01-30|   2020-02-15|         null|released|\n",
            "|1000000005|female|20s|  Korea|   Seoul|Seongbuk-gu|contact with patient| 1000000002|             2|              null|    2020-01-31|   2020-02-24|         null|released|\n",
            "+----------+------+---+-------+--------+-----------+--------------------+-----------+--------------+------------------+--------------+-------------+-------------+--------+\n",
            "\n"
          ]
        }
      ],
      "source": [
        "spark.sql(\"SELECT * from patients\").limit(5).show()"
      ]
    },
    {
      "cell_type": "markdown",
      "metadata": {
        "id": "C6sJcitT0DhQ"
      },
      "source": [
        "4. Select the count of males and females in the dataset"
      ]
    },
    {
      "cell_type": "code",
      "execution_count": null,
      "metadata": {
        "colab": {
          "base_uri": "https://localhost:8080/"
        },
        "id": "Ik3L-ZW00DhR",
        "outputId": "2acf67ed-9870-4cca-fe82-a8e55d14958b"
      },
      "outputs": [
        {
          "output_type": "execute_result",
          "data": {
            "text/plain": [
              "1825"
            ]
          },
          "metadata": {},
          "execution_count": 15
        }
      ],
      "source": [
        "spark.sql(\"SELECT * from patients where sex='male'\").count()\n"
      ]
    },
    {
      "cell_type": "code",
      "source": [
        "spark.sql(\"SELECT * from patients where sex='female'\").count()\n"
      ],
      "metadata": {
        "colab": {
          "base_uri": "https://localhost:8080/"
        },
        "id": "p2vewXFT3LKZ",
        "outputId": "fcc30fbe-5fb5-49db-dc95-1c257e9607b9"
      },
      "execution_count": null,
      "outputs": [
        {
          "output_type": "execute_result",
          "data": {
            "text/plain": [
              "2218"
            ]
          },
          "metadata": {},
          "execution_count": 16
        }
      ]
    },
    {
      "cell_type": "markdown",
      "metadata": {
        "id": "7SdOS8Ld0DhR"
      },
      "source": [
        "5. Select the count of males and females *as percentage* (how many percent of the data are males and how many are females?)"
      ]
    },
    {
      "cell_type": "code",
      "execution_count": null,
      "metadata": {
        "colab": {
          "base_uri": "https://localhost:8080/"
        },
        "id": "QtJ9wswC0DhR",
        "outputId": "2ace6540-bc67-466f-9bbc-739fb692f61d"
      },
      "outputs": [
        {
          "output_type": "execute_result",
          "data": {
            "text/plain": [
              "0.42942884801548886"
            ]
          },
          "metadata": {},
          "execution_count": 70
        }
      ],
      "source": [
        "spark.sql(\"SELECT * from patients where sex='female'\").count()/spark.sql(\"SELECT sex from patients \").count()\n"
      ]
    },
    {
      "cell_type": "markdown",
      "metadata": {
        "id": "wQcD-0IH0DhS"
      },
      "source": [
        "6. How many people did survive, and how many didn't?"
      ]
    },
    {
      "cell_type": "code",
      "execution_count": null,
      "metadata": {
        "colab": {
          "base_uri": "https://localhost:8080/"
        },
        "id": "cnvms7D40DhS",
        "outputId": "f274b020-3b3f-4fc7-f328-b29f65eed385"
      },
      "outputs": [
        {
          "output_type": "execute_result",
          "data": {
            "text/plain": [
              "2929"
            ]
          },
          "metadata": {},
          "execution_count": 18
        }
      ],
      "source": [
        "spark.sql(\"SELECT * from patients where state='released'\").count()"
      ]
    },
    {
      "cell_type": "code",
      "source": [
        "spark.sql(\"SELECT * from patients where state!='released'\").count()"
      ],
      "metadata": {
        "colab": {
          "base_uri": "https://localhost:8080/"
        },
        "id": "LHwmNKIe4HJW",
        "outputId": "477a4622-b59e-4c26-b284-cc2952d554e5"
      },
      "execution_count": null,
      "outputs": [
        {
          "output_type": "execute_result",
          "data": {
            "text/plain": [
              "2236"
            ]
          },
          "metadata": {},
          "execution_count": 19
        }
      ]
    },
    {
      "cell_type": "markdown",
      "metadata": {
        "id": "kWf82v4m0DhS"
      },
      "source": [
        "Now, let's perform some preprocessing using SQL:\n",
        "\n",
        "1. Convert *age* column to double after removing the 's' at the end -- *hint: check SUBSTRING method*\n",
        "2. Select only the following columns: `['sex', 'age', 'province', 'state']`\n",
        "3. Store the result of the query in a new dataframe"
      ]
    },
    {
      "cell_type": "code",
      "source": [
        "from pyspark.sql.types import DoubleType,IntegerType\n",
        "from pyspark.sql.functions import coalesce,udf,substring"
      ],
      "metadata": {
        "id": "8JFw5G4e5Yml"
      },
      "execution_count": null,
      "outputs": []
    },
    {
      "cell_type": "code",
      "source": [
        "df.show(3)"
      ],
      "metadata": {
        "id": "QpJ6pX_654jW",
        "colab": {
          "base_uri": "https://localhost:8080/"
        },
        "outputId": "fc973dd8-c319-4798-ac68-fd1fd80c164a"
      },
      "execution_count": null,
      "outputs": [
        {
          "output_type": "stream",
          "name": "stdout",
          "text": [
            "+----------+----+---+-------+--------+-----------+--------------------+-----------+--------------+------------------+--------------+-------------+-------------+--------+\n",
            "|patient_id| sex|age|country|province|       city|      infection_case|infected_by|contact_number|symptom_onset_date|confirmed_date|released_date|deceased_date|   state|\n",
            "+----------+----+---+-------+--------+-----------+--------------------+-----------+--------------+------------------+--------------+-------------+-------------+--------+\n",
            "|1000000001|male|50s|  Korea|   Seoul| Gangseo-gu|     overseas inflow|       null|            75|        2020-01-22|    2020-01-23|   2020-02-05|         null|released|\n",
            "|1000000002|male|30s|  Korea|   Seoul|Jungnang-gu|     overseas inflow|       null|            31|              null|    2020-01-30|   2020-03-02|         null|released|\n",
            "|1000000003|male|50s|  Korea|   Seoul|  Jongno-gu|contact with patient| 2002000001|            17|              null|    2020-01-30|   2020-02-19|         null|released|\n",
            "+----------+----+---+-------+--------+-----------+--------------------+-----------+--------------+------------------+--------------+-------------+-------------+--------+\n",
            "only showing top 3 rows\n",
            "\n"
          ]
        }
      ]
    },
    {
      "cell_type": "code",
      "source": [
        "df2=spark.sql(\"Select sex, province, state,int(substring(age,1,2)) as age from patients\")"
      ],
      "metadata": {
        "id": "-S8PXWhr7kuz"
      },
      "execution_count": null,
      "outputs": []
    },
    {
      "cell_type": "markdown",
      "metadata": {
        "id": "teGnQxJp0DhT"
      },
      "source": [
        "Now view the new dataframe to make sure everything is alright"
      ]
    },
    {
      "cell_type": "code",
      "execution_count": null,
      "metadata": {
        "colab": {
          "base_uri": "https://localhost:8080/"
        },
        "id": "KXzqCJFO0DhT",
        "outputId": "3872cdad-cdfb-42b1-f499-d7c1baa74b68"
      },
      "outputs": [
        {
          "output_type": "stream",
          "name": "stdout",
          "text": [
            "+------+--------+--------+---+\n",
            "|   sex|province|   state|age|\n",
            "+------+--------+--------+---+\n",
            "|  male|   Seoul|released| 50|\n",
            "|  male|   Seoul|released| 30|\n",
            "|  male|   Seoul|released| 50|\n",
            "|  male|   Seoul|released| 20|\n",
            "|female|   Seoul|released| 20|\n",
            "+------+--------+--------+---+\n",
            "only showing top 5 rows\n",
            "\n"
          ]
        }
      ],
      "source": [
        "df2.show(5)"
      ]
    },
    {
      "cell_type": "code",
      "execution_count": null,
      "metadata": {
        "id": "c5g8zDgF0DhU"
      },
      "outputs": [],
      "source": [
        ""
      ]
    },
    {
      "cell_type": "markdown",
      "metadata": {
        "id": "3KxhGugI0DhU"
      },
      "source": [
        "**Now, let's get back to spark operations**\n",
        "\n",
        "Please copy the following operations from your solution in Lab 1\n",
        "___"
      ]
    },
    {
      "cell_type": "markdown",
      "metadata": {
        "id": "X6J0acU20DhV"
      },
      "source": [
        "Add a **is_dead** column if patient state is not released then it should yield true, else then False"
      ]
    },
    {
      "cell_type": "code",
      "execution_count": null,
      "metadata": {
        "id": "FOm-EY2S0DhW"
      },
      "outputs": [],
      "source": [
        "def isdead(sts):\n",
        "\n",
        "    if sts=='released':\n",
        "      return 1\n",
        "    else:\n",
        "      return 0\n",
        "   \n",
        "fun1=udf(isdead,IntegerType())\n",
        "df2=df2.withColumn('isdead',fun1('state'))"
      ]
    },
    {
      "cell_type": "code",
      "execution_count": null,
      "metadata": {
        "id": "_8XidXTm0DhW"
      },
      "outputs": [],
      "source": [
        ""
      ]
    },
    {
      "cell_type": "code",
      "execution_count": null,
      "metadata": {
        "id": "ehoHIZyo0DhW",
        "colab": {
          "base_uri": "https://localhost:8080/"
        },
        "outputId": "60a2744c-7a31-4945-cfbc-113a0f783e54"
      },
      "outputs": [
        {
          "output_type": "stream",
          "name": "stdout",
          "text": [
            "+---+--------+-----+---+------+\n",
            "|sex|province|state|age|isdead|\n",
            "+---+--------+-----+---+------+\n",
            "|sex|province|state| 50|     0|\n",
            "|sex|province|state| 30|     0|\n",
            "|sex|province|state| 50|     0|\n",
            "+---+--------+-----+---+------+\n",
            "only showing top 3 rows\n",
            "\n"
          ]
        }
      ],
      "source": [
        "df2.show(3)"
      ]
    },
    {
      "cell_type": "markdown",
      "metadata": {
        "id": "XP0Hwd5P0DhW"
      },
      "source": [
        "**Please split the data into train and test dataframes**\n",
        "\n",
        "*Ratio: 80:20 - Seed=42*"
      ]
    },
    {
      "cell_type": "code",
      "source": [
        ""
      ],
      "metadata": {
        "id": "fk47rC_J9fxR"
      },
      "execution_count": null,
      "outputs": []
    },
    {
      "cell_type": "code",
      "execution_count": null,
      "metadata": {
        "id": "e56DaD0P0DhX"
      },
      "outputs": [],
      "source": [
        "data_train,data_test=df2.randomSplit([0.8,0.2],seed=42)"
      ]
    },
    {
      "cell_type": "code",
      "execution_count": null,
      "metadata": {
        "id": "MxxhIcy40DhX"
      },
      "outputs": [],
      "source": [
        ""
      ]
    },
    {
      "cell_type": "code",
      "source": [
        "# df"
      ],
      "metadata": {
        "id": "KavvZaT7EFGT"
      },
      "execution_count": null,
      "outputs": []
    },
    {
      "cell_type": "code",
      "execution_count": null,
      "metadata": {
        "id": "1cZG_tOV0DhX",
        "colab": {
          "base_uri": "https://localhost:8080/"
        },
        "outputId": "b9e3c8b4-de73-4370-cd32-314e3e374886"
      },
      "outputs": [
        {
          "output_type": "stream",
          "name": "stdout",
          "text": [
            "+----+-----------------+--------+----+------+\n",
            "| sex|         province|   state| age|isdead|\n",
            "+----+-----------------+--------+----+------+\n",
            "|null|Chungcheongnam-do|isolated|  20|     0|\n",
            "|null|      Gyeonggi-do|isolated|null|     0|\n",
            "|null|      Gyeonggi-do|isolated|null|     0|\n",
            "|null|      Gyeonggi-do|isolated|null|     0|\n",
            "|null|      Gyeonggi-do|isolated|null|     0|\n",
            "+----+-----------------+--------+----+------+\n",
            "only showing top 5 rows\n",
            "\n"
          ]
        }
      ],
      "source": [
        "data_test.show(5)"
      ]
    },
    {
      "cell_type": "markdown",
      "metadata": {
        "id": "xxD3_usT0DhZ"
      },
      "source": [
        "**Now, let's import RandomForestClassifier and start our ML pipeline**"
      ]
    },
    {
      "cell_type": "code",
      "execution_count": null,
      "metadata": {
        "id": "mNQFlw3C0DhZ"
      },
      "outputs": [],
      "source": [
        "from pyspark.ml.classification import RandomForestClassifier\n",
        "from pyspark.ml.feature import StringIndexer,OneHotEncoder,VectorAssembler,Imputer\n",
        "from pyspark.ml import Pipeline"
      ]
    },
    {
      "cell_type": "markdown",
      "metadata": {
        "id": "gdlsSfuo0Dha"
      },
      "source": [
        "**Create a pipeline that contains the following stages:**\n",
        "\n",
        "- Imputer: impute the null values in `age` column to the mean value\n",
        "- StringIndexer: convert `sex` to `is_male` and `province` to `province_index` as numerical values\n",
        "- OneHotEncoder: perform one hot encoding on both `is_male` and -province_index`\n",
        "- VectorAssembler: assemble feature vector from the following columns: `'age', 'is_male', 'province_index'`\n",
        "- RandomForestClassifier: final estimator"
      ]
    },
    {
      "cell_type": "code",
      "execution_count": null,
      "metadata": {
        "id": "P_Uilmcu0Dha"
      },
      "outputs": [],
      "source": [
        "imputer=Imputer(inputCols=['age'],outputCols=['age'],strategy='mean')"
      ]
    },
    {
      "cell_type": "code",
      "execution_count": null,
      "metadata": {
        "id": "zaTOFy390Dhb"
      },
      "outputs": [],
      "source": [
        "indexer=StringIndexer(inputCols=['sex','province'],outputCols=['is_male','province_index'],handleInvalid='keep')"
      ]
    },
    {
      "cell_type": "code",
      "source": [
        "encoder=OneHotEncoder(inputCols=['is_male','province_index'],outputCols=['is_male_2_onehot','province_index_2_onehot'])"
      ],
      "metadata": {
        "id": "b-VNuFoO-Rvu"
      },
      "execution_count": null,
      "outputs": []
    },
    {
      "cell_type": "code",
      "source": [
        "assembler=VectorAssembler(inputCols=['age', 'is_male_2_onehot','province_index_2_onehot'],outputCol='Feature')"
      ],
      "metadata": {
        "id": "faqMNOMT-R8n"
      },
      "execution_count": null,
      "outputs": []
    },
    {
      "cell_type": "code",
      "source": [
        "clf=RandomForestClassifier(featuresCol='Feature',labelCol='isdead')"
      ],
      "metadata": {
        "id": "O5Bx01F2-SIy"
      },
      "execution_count": null,
      "outputs": []
    },
    {
      "cell_type": "code",
      "source": [
        ""
      ],
      "metadata": {
        "id": "ioo4n84O-SRE"
      },
      "execution_count": null,
      "outputs": []
    },
    {
      "cell_type": "code",
      "execution_count": null,
      "metadata": {
        "id": "JJ0Mas9G0Dhb"
      },
      "outputs": [],
      "source": [
        ""
      ]
    },
    {
      "cell_type": "markdown",
      "metadata": {
        "id": "QDvjlh1C0Dhc"
      },
      "source": [
        "Fit the pipeline to the train dataframe"
      ]
    },
    {
      "cell_type": "code",
      "execution_count": null,
      "metadata": {
        "id": "9_TIxlBu0Dhc"
      },
      "outputs": [],
      "source": [
        "model=Pipeline(stages=[imputer,indexer,encoder,assembler,clf])"
      ]
    },
    {
      "cell_type": "markdown",
      "metadata": {
        "id": "cUDfrFys0Dhd"
      },
      "source": [
        "Now transform the test DF to get predictions"
      ]
    },
    {
      "cell_type": "code",
      "execution_count": null,
      "metadata": {
        "id": "Sf0L6kRx0Dhf"
      },
      "outputs": [],
      "source": [
        "model=model.fit(data_train)"
      ]
    },
    {
      "cell_type": "markdown",
      "metadata": {
        "id": "XtoCk3JE0Dhg"
      },
      "source": [
        "Show the final predictions DF"
      ]
    },
    {
      "cell_type": "code",
      "execution_count": null,
      "metadata": {
        "id": "S1KJmzs70Dhh"
      },
      "outputs": [],
      "source": [
        "pred=model.transform(data_test)"
      ]
    },
    {
      "cell_type": "code",
      "source": [
        ""
      ],
      "metadata": {
        "id": "WawyORzxC9Ig"
      },
      "execution_count": null,
      "outputs": []
    },
    {
      "cell_type": "code",
      "execution_count": null,
      "metadata": {
        "id": "Nq4yRTBv0Dhi",
        "colab": {
          "base_uri": "https://localhost:8080/"
        },
        "outputId": "3b431cc0-54fc-477b-e21c-cf1088dad3af"
      },
      "outputs": [
        {
          "output_type": "stream",
          "name": "stdout",
          "text": [
            "+---------------------+------+----------+\n",
            "|Feature              |isdead|prediction|\n",
            "+---------------------+------+----------+\n",
            "|(20,[0,7],[20.0,1.0])|0     |1.0       |\n",
            "|(20,[0,5],[41.0,1.0])|0     |0.0       |\n",
            "|(20,[0,5],[41.0,1.0])|0     |0.0       |\n",
            "|(20,[0,5],[41.0,1.0])|0     |0.0       |\n",
            "|(20,[0,5],[41.0,1.0])|0     |0.0       |\n",
            "+---------------------+------+----------+\n",
            "only showing top 5 rows\n",
            "\n"
          ]
        }
      ],
      "source": [
        "pred.select('Feature','isdead','prediction').show(5,truncate=False)"
      ]
    },
    {
      "cell_type": "markdown",
      "metadata": {
        "id": "AngKVFtP0Dhj"
      },
      "source": [
        "**Model Evaluation**\n",
        "\n",
        "Now let's evaluate our model! Let's get the accuracy of our model"
      ]
    },
    {
      "cell_type": "code",
      "source": [
        "from pyspark.ml.evaluation import BinaryClassificationEvaluator,MulticlassClassificationEvaluator"
      ],
      "metadata": {
        "id": "ViVtiAGgJ-Ga"
      },
      "execution_count": null,
      "outputs": []
    },
    {
      "cell_type": "code",
      "source": [
        "evaluator = MulticlassClassificationEvaluator().setLabelCol(\"isdead\").setPredictionCol(\"prediction\").setMetricName(\"accuracy\")\n",
        "accuracy = evaluator.evaluate(pred)"
      ],
      "metadata": {
        "id": "Ivv3cDpnODFp"
      },
      "execution_count": null,
      "outputs": []
    },
    {
      "cell_type": "code",
      "source": [
        "accuracy"
      ],
      "metadata": {
        "colab": {
          "base_uri": "https://localhost:8080/"
        },
        "id": "6n0zJglZJOJv",
        "outputId": "2cca5bca-b4f5-4491-cc1d-ceca98654f4e"
      },
      "execution_count": null,
      "outputs": [
        {
          "output_type": "execute_result",
          "data": {
            "text/plain": [
              "0.8488488488488488"
            ]
          },
          "metadata": {},
          "execution_count": 143
        }
      ]
    },
    {
      "cell_type": "code",
      "source": [
        ""
      ],
      "metadata": {
        "id": "t5C0OtzeJOVk"
      },
      "execution_count": null,
      "outputs": []
    },
    {
      "cell_type": "code",
      "source": [
        ""
      ],
      "metadata": {
        "id": "IXCiPaHVJOgx"
      },
      "execution_count": null,
      "outputs": []
    },
    {
      "cell_type": "code",
      "execution_count": null,
      "metadata": {
        "id": "A2-DWS-00Dhk"
      },
      "outputs": [],
      "source": [
        ""
      ]
    },
    {
      "cell_type": "markdown",
      "metadata": {
        "id": "ktMoCpgM0Dhl"
      },
      "source": [
        "Excellent! Now let's generate the confusion matrix of our predictions\n",
        "\n",
        "*Hint: we can use `scikit-learn`'s `classification_report`. You will need to transform the predictions into pandas DF first*"
      ]
    },
    {
      "cell_type": "code",
      "execution_count": null,
      "metadata": {
        "id": "cJf8ZT380Dhm",
        "colab": {
          "base_uri": "https://localhost:8080/"
        },
        "outputId": "766ba825-546e-4f61-f4fc-109a0eb88467"
      },
      "outputs": [
        {
          "output_type": "execute_result",
          "data": {
            "text/plain": [
              "DataFrame[sex: string, province: string, state: string, age: int, isdead: int, is_male: double, province_index: double, is_male_2_onehot: vector, province_index_2_onehot: vector, Feature: vector, rawPrediction: vector, probability: vector, prediction: double]"
            ]
          },
          "metadata": {},
          "execution_count": 144
        }
      ],
      "source": [
        "pred"
      ]
    },
    {
      "cell_type": "code",
      "source": [
        "import pandas as pd\n"
      ],
      "metadata": {
        "id": "iJQdLjk-OpOw"
      },
      "execution_count": null,
      "outputs": []
    },
    {
      "cell_type": "code",
      "source": [
        "pandasDF = pred.toPandas()\n",
        "# print(pandasDF)"
      ],
      "metadata": {
        "id": "QqwTFCJhOpYW"
      },
      "execution_count": null,
      "outputs": []
    },
    {
      "cell_type": "code",
      "source": [
        "# print(pandasDF)"
      ],
      "metadata": {
        "id": "EL4pZoeMPgGp"
      },
      "execution_count": null,
      "outputs": []
    },
    {
      "cell_type": "code",
      "source": [
        "y_true=pandasDF['isdead']\n",
        "y_pred=pandasDF['prediction']\n"
      ],
      "metadata": {
        "id": "jEb2oaCnPpOP"
      },
      "execution_count": null,
      "outputs": []
    },
    {
      "cell_type": "code",
      "execution_count": null,
      "metadata": {
        "id": "8Y9L8gaI0Dhm",
        "colab": {
          "base_uri": "https://localhost:8080/"
        },
        "outputId": "d23345f1-0f55-4851-e932-9a699323ec2e"
      },
      "outputs": [
        {
          "output_type": "stream",
          "name": "stdout",
          "text": [
            "              precision    recall  f1-score   support\n",
            "\n",
            "           0       0.92      0.68      0.79       404\n",
            "           1       0.82      0.96      0.88       595\n",
            "\n",
            "    accuracy                           0.85       999\n",
            "   macro avg       0.87      0.82      0.83       999\n",
            "weighted avg       0.86      0.85      0.84       999\n",
            "\n"
          ]
        }
      ],
      "source": [
        "from sklearn.metrics import classification_report\n",
        "print(classification_report(y_true, y_pred))"
      ]
    },
    {
      "cell_type": "code",
      "execution_count": null,
      "metadata": {
        "id": "NOxLnDFw0Dhn"
      },
      "outputs": [],
      "source": [
        ""
      ]
    },
    {
      "cell_type": "markdown",
      "metadata": {
        "id": "IMkBfvkr0Dhn"
      },
      "source": [
        "## Great Job!\n",
        "\n",
        "**If you followed the instructions correctly, you should get a total accuracy of 89%, and F1 scores of 92% and 85%**\n",
        "\n",
        "**Do you think you can improve this accuracy? Let's see what you can do :)**\n",
        "\n",
        "___\n",
        "If you have any questions you can reach out to me:\n",
        "\n",
        "### Omar Hammad\n",
        "#### Software Engineer\n",
        "##### Email: ommar365@gmail.com\n",
        "##### Phone: 01144070145\n",
        "##### Linkedin: https://www.linkedin.com/in/omar-a-hammad"
      ]
    }
  ],
  "metadata": {
    "kernelspec": {
      "display_name": "Python 3.9.10",
      "language": "python",
      "name": "python3"
    },
    "language_info": {
      "codemirror_mode": {
        "name": "ipython",
        "version": 3
      },
      "file_extension": ".py",
      "mimetype": "text/x-python",
      "name": "python",
      "nbconvert_exporter": "python",
      "pygments_lexer": "ipython3",
      "version": "3.9.10"
    },
    "orig_nbformat": 4,
    "vscode": {
      "interpreter": {
        "hash": "dd1a844898bebfcc6c6c504d1dc786ee6fa9d0c6b1f1b5f42f0cc60440be92ab"
      }
    },
    "colab": {
      "name": "Asmaa Saeed - Practical_Session_2_v2.ipynb",
      "provenance": [],
      "toc_visible": true,
      "include_colab_link": true
    }
  },
  "nbformat": 4,
  "nbformat_minor": 0
}