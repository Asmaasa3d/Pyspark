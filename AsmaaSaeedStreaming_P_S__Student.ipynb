{
  "cells": [
    {
      "cell_type": "markdown",
      "metadata": {
        "id": "view-in-github",
        "colab_type": "text"
      },
      "source": [
        "<a href=\"https://colab.research.google.com/github/Asmaasa3d/Pyspark/blob/main/AsmaaSaeedStreaming_P_S__Student.ipynb\" target=\"_parent\"><img src=\"https://colab.research.google.com/assets/colab-badge.svg\" alt=\"Open In Colab\"/></a>"
      ]
    },
    {
      "cell_type": "code",
      "execution_count": null,
      "id": "60f97978",
      "metadata": {
        "id": "60f97978"
      },
      "outputs": [],
      "source": [
        ""
      ]
    },
    {
      "cell_type": "code",
      "source": [
        "from google.colab import drive\n",
        "drive.mount('/content/drive')"
      ],
      "metadata": {
        "colab": {
          "base_uri": "https://localhost:8080/"
        },
        "id": "8agWcchIeRsP",
        "outputId": "6ced4085-0e0e-4edb-e5b3-9b10ced40de9"
      },
      "id": "8agWcchIeRsP",
      "execution_count": null,
      "outputs": [
        {
          "output_type": "stream",
          "name": "stdout",
          "text": [
            "Mounted at /content/drive\n"
          ]
        }
      ]
    },
    {
      "cell_type": "code",
      "execution_count": null,
      "id": "201cee8c",
      "metadata": {
        "id": "201cee8c",
        "outputId": "e4a1fd0a-5333-4558-fccd-7a80388ed94b",
        "colab": {
          "base_uri": "https://localhost:8080/",
          "height": 17
        }
      },
      "outputs": [
        {
          "output_type": "display_data",
          "data": {
            "text/plain": [
              "<IPython.core.display.HTML object>"
            ],
            "text/html": [
              "<style>pre { white-space: pre !important; }</style>"
            ]
          },
          "metadata": {}
        }
      ],
      "source": [
        "from IPython.display import display, HTML\n",
        "display(HTML(\"<style>pre { white-space: pre !important; }</style>\"))"
      ]
    },
    {
      "cell_type": "code",
      "source": [
        "!pip install pyspark"
      ],
      "metadata": {
        "colab": {
          "base_uri": "https://localhost:8080/"
        },
        "id": "b8ZzhqC8h2Ro",
        "outputId": "7ef52aff-000d-455a-8dcd-41d4ed742751"
      },
      "id": "b8ZzhqC8h2Ro",
      "execution_count": null,
      "outputs": [
        {
          "output_type": "stream",
          "name": "stdout",
          "text": [
            "Looking in indexes: https://pypi.org/simple, https://us-python.pkg.dev/colab-wheels/public/simple/\n",
            "Requirement already satisfied: pyspark in /usr/local/lib/python3.7/dist-packages (3.3.0)\n",
            "Requirement already satisfied: py4j==0.10.9.5 in /usr/local/lib/python3.7/dist-packages (from pyspark) (0.10.9.5)\n"
          ]
        }
      ]
    },
    {
      "cell_type": "code",
      "source": [
        "import pyspark\n",
        "from pyspark.sql import SparkSession\n",
        "spark = SparkSession.builder.getOrCreate()"
      ],
      "metadata": {
        "id": "6cl4W3vsh0KS"
      },
      "id": "6cl4W3vsh0KS",
      "execution_count": null,
      "outputs": []
    },
    {
      "cell_type": "code",
      "source": [
        ""
      ],
      "metadata": {
        "id": "gBY_q51ph0HT"
      },
      "id": "gBY_q51ph0HT",
      "execution_count": null,
      "outputs": []
    },
    {
      "cell_type": "code",
      "source": [
        ""
      ],
      "metadata": {
        "id": "BkYWPYmaiZgE"
      },
      "id": "BkYWPYmaiZgE",
      "execution_count": null,
      "outputs": []
    },
    {
      "cell_type": "code",
      "source": [
        ""
      ],
      "metadata": {
        "id": "L4GjmUmwiZc4"
      },
      "id": "L4GjmUmwiZc4",
      "execution_count": null,
      "outputs": []
    },
    {
      "cell_type": "markdown",
      "id": "efac8040",
      "metadata": {
        "id": "efac8040"
      },
      "source": [
        "### Create the schema of the streamed files (check the column names and types from the CSV files)"
      ]
    },
    {
      "cell_type": "code",
      "execution_count": null,
      "id": "c4674d5d",
      "metadata": {
        "id": "c4674d5d"
      },
      "outputs": [],
      "source": [
        "\n",
        "from pyspark.sql.types import  StructType,StructField,DateType,FloatType,DoubleType,StringType\n",
        "\n",
        "\n",
        "\n",
        "recordSchema = StructType([StructField('ID', StringType(), True),\n",
        "                           StructField('Date', StringType(), True),\n",
        "                           StructField('Open', DoubleType(), True),\n",
        "                           StructField('High', DoubleType(), True),\n",
        "                           StructField('Low', DoubleType(), True),\n",
        "                           StructField('Close', DoubleType(), True),\n",
        "                           StructField('Adj Close', DoubleType(), True),\n",
        "                           StructField('Volume', DoubleType(), True),\n",
        "                           ])"
      ]
    },
    {
      "cell_type": "markdown",
      "id": "4f50fbeb",
      "metadata": {
        "id": "4f50fbeb"
      },
      "source": [
        "### Create the dataframe by reading the stream using format \"csv\" and the schema you created."
      ]
    },
    {
      "cell_type": "code",
      "execution_count": null,
      "id": "d77671b2",
      "metadata": {
        "id": "d77671b2"
      },
      "outputs": [],
      "source": [
        "df = spark.readStream.format('csv').schema(recordSchema).option(\"dateFormat\", \"m/d/YYYY\").load('/content/InStream/')"
      ]
    },
    {
      "cell_type": "code",
      "source": [
        ""
      ],
      "metadata": {
        "id": "A6MwiqkjT-XQ"
      },
      "id": "A6MwiqkjT-XQ",
      "execution_count": null,
      "outputs": []
    },
    {
      "cell_type": "code",
      "source": [
        "df.printSchema()"
      ],
      "metadata": {
        "colab": {
          "base_uri": "https://localhost:8080/"
        },
        "id": "qkkOO9FxjlE-",
        "outputId": "2a87596e-6dca-463b-8f2b-856cd75a74c5"
      },
      "id": "qkkOO9FxjlE-",
      "execution_count": null,
      "outputs": [
        {
          "output_type": "stream",
          "name": "stdout",
          "text": [
            "root\n",
            " |-- ID: string (nullable = true)\n",
            " |-- Date: string (nullable = true)\n",
            " |-- Open: double (nullable = true)\n",
            " |-- High: double (nullable = true)\n",
            " |-- Low: double (nullable = true)\n",
            " |-- Close: double (nullable = true)\n",
            " |-- Adj Close: double (nullable = true)\n",
            " |-- Volume: double (nullable = true)\n",
            "\n"
          ]
        }
      ]
    },
    {
      "cell_type": "markdown",
      "id": "ce1e0e44",
      "metadata": {
        "id": "ce1e0e44"
      },
      "source": [
        "### Make sure the sataframe is streaming the files from the folder"
      ]
    },
    {
      "cell_type": "code",
      "source": [
        "df.isStreaming"
      ],
      "metadata": {
        "colab": {
          "base_uri": "https://localhost:8080/"
        },
        "id": "Y6vcIwN7j2g0",
        "outputId": "3de8d68b-57ff-40c0-cc56-dab60596dc15"
      },
      "id": "Y6vcIwN7j2g0",
      "execution_count": null,
      "outputs": [
        {
          "output_type": "execute_result",
          "data": {
            "text/plain": [
              "True"
            ]
          },
          "metadata": {},
          "execution_count": 21
        }
      ]
    },
    {
      "cell_type": "code",
      "source": [
        "\n"
      ],
      "metadata": {
        "id": "0hJoFQxyj2cb"
      },
      "id": "0hJoFQxyj2cb",
      "execution_count": null,
      "outputs": []
    },
    {
      "cell_type": "code",
      "execution_count": null,
      "id": "0fc0fa13",
      "metadata": {
        "id": "0fc0fa13"
      },
      "outputs": [],
      "source": [
        ""
      ]
    },
    {
      "cell_type": "markdown",
      "id": "ac9d68de",
      "metadata": {
        "id": "ac9d68de"
      },
      "source": [
        "### Create a stream writer into memory and specify the query name \"stock:"
      ]
    },
    {
      "cell_type": "code",
      "execution_count": null,
      "id": "f40bf944",
      "metadata": {
        "id": "f40bf944"
      },
      "outputs": [],
      "source": [
        "writer=df.writeStream.outputMode('append').format('memory').queryName('stock')\\\n",
        " .option(\"truncate\", False) \\\n",
        "    .option(\"numRows\", 100) \\\n",
        ".option(\"checkpointLocation\", \"oo\")"
      ]
    },
    {
      "cell_type": "code",
      "source": [
        ""
      ],
      "metadata": {
        "id": "zkvTLZzxkhic"
      },
      "id": "zkvTLZzxkhic",
      "execution_count": null,
      "outputs": []
    },
    {
      "cell_type": "code",
      "source": [
        ""
      ],
      "metadata": {
        "id": "Ca3TQ5o3khcu"
      },
      "id": "Ca3TQ5o3khcu",
      "execution_count": null,
      "outputs": []
    },
    {
      "cell_type": "markdown",
      "id": "63a5f9a4",
      "metadata": {
        "id": "63a5f9a4"
      },
      "source": [
        "### Start the write stream and make sure it works (read all columns from the table)"
      ]
    },
    {
      "cell_type": "code",
      "execution_count": null,
      "id": "0d98c6dc",
      "metadata": {
        "id": "0d98c6dc"
      },
      "outputs": [],
      "source": [
        "query= writer.start()"
      ]
    },
    {
      "cell_type": "code",
      "execution_count": null,
      "id": "27bebb21",
      "metadata": {
        "id": "27bebb21",
        "outputId": "c25f0bb0-20b8-45b9-9b82-c549aad4b328",
        "colab": {
          "base_uri": "https://localhost:8080/"
        }
      },
      "outputs": [
        {
          "output_type": "stream",
          "name": "stdout",
          "text": [
            "+----+----+----+---+-----+---------+------+\n",
            "|Date|Open|High|Low|Close|Adj Close|Volume|\n",
            "+----+----+----+---+-----+---------+------+\n",
            "+----+----+----+---+-----+---------+------+\n",
            "\n"
          ]
        }
      ],
      "source": [
        "spark.sql('SELECT * FROM stock').show()"
      ]
    },
    {
      "cell_type": "code",
      "source": [
        "spark.sql('SELECT * FROM stock').show()"
      ],
      "metadata": {
        "colab": {
          "base_uri": "https://localhost:8080/"
        },
        "id": "eceMbKmykq3q",
        "outputId": "f018c852-54df-47a8-8bd0-bb7f881cbc83"
      },
      "id": "eceMbKmykq3q",
      "execution_count": null,
      "outputs": [
        {
          "output_type": "stream",
          "name": "stdout",
          "text": [
            "+----+----------+------------+------------+------------+------------+------------+--------+\n",
            "|  ID|      Date|        Open|        High|         Low|       Close|   Adj Close|  Volume|\n",
            "+----+----------+------------+------------+------------+------------+------------+--------+\n",
            "|null|      Date|        null|        null|        null|        null|        null|    null|\n",
            "| 240|2000-12-05|26585.300781|27367.300781|26372.099609|27011.800781|25526.091797| 91019.0|\n",
            "| 241|2000-12-06|27011.800781|27509.400391|26798.599609|26869.699219|25391.804688|105791.0|\n",
            "| 242|2000-12-07|27011.800781|27011.800781|26478.699219|26656.400391|25190.236328| 40656.0|\n",
            "| 243|2000-12-08|26656.400391|27722.699219|26656.400391|27651.599609|26130.699219|149964.0|\n",
            "| 244|2000-12-11|27687.099609|     28860.0|27651.599609|28078.099609|26533.740234|159671.0|\n",
            "| 245|2000-12-12|28042.599609|28078.099609|27438.300781|27935.900391|26399.361328| 74560.0|\n",
            "| 246|2000-12-13|27651.599609|     29286.5|27651.599609|28469.099609|26903.234375|270385.0|\n",
            "| 247|2000-12-14|28469.099609|29784.099609|28291.300781|28362.400391| 26802.40625|256317.0|\n",
            "| 248|2000-12-15|28362.400391|28895.599609|27793.800781|27935.900391|26399.361328|108886.0|\n",
            "| 249|2000-12-18|     27580.5|     28433.5|27367.300781|28291.300781|26735.216797| 92848.0|\n",
            "| 250|2000-12-19|27722.699219|28788.900391|27651.599609|27651.599609|26130.699219|115779.0|\n",
            "| 251|2000-12-20|27402.800781|27793.800781|     27154.0|27722.699219|26197.890625| 99601.0|\n",
            "| 252|2000-12-21|27367.300781|27793.800781|27082.900391|27722.699219|26197.890625|129706.0|\n",
            "| 253|2000-12-22|27687.099609|     28007.0|27509.400391|     28007.0|26466.550781| 77233.0|\n",
            "| 254|2000-12-26|     27971.5|31987.699219|27473.900391|     28433.5|26869.591797|131535.0|\n",
            "| 255|2001-01-02|27367.300781|27367.300781|25945.599609|26656.400391|25190.236328| 64150.0|\n",
            "| 256|2001-01-03|26585.300781|26656.400391|26016.699219|26656.400391|25190.236328| 37421.0|\n",
            "| 257|2001-01-04|27367.300781|28078.099609|26905.199219|27082.900391|25593.277344|131254.0|\n",
            "| 258|2001-01-05|26940.800781|26940.800781|26194.400391|26585.300781|25123.048828| 90316.0|\n",
            "+----+----------+------------+------------+------------+------------+------------+--------+\n",
            "only showing top 20 rows\n",
            "\n"
          ]
        }
      ]
    },
    {
      "cell_type": "code",
      "execution_count": null,
      "id": "769e6e1e",
      "metadata": {
        "scrolled": true,
        "id": "769e6e1e",
        "outputId": "e1c87f1a-5efc-4813-8c7c-f36434f5f500",
        "colab": {
          "base_uri": "https://localhost:8080/"
        }
      },
      "outputs": [
        {
          "output_type": "stream",
          "name": "stdout",
          "text": [
            "+--------+\n",
            "|count(1)|\n",
            "+--------+\n",
            "|       0|\n",
            "+--------+\n",
            "\n"
          ]
        }
      ],
      "source": [
        "spark.sql('SELECT count(*)FROM stock').show()"
      ]
    },
    {
      "cell_type": "code",
      "source": [
        ""
      ],
      "metadata": {
        "id": "3q8WL2vmlwDv"
      },
      "id": "3q8WL2vmlwDv",
      "execution_count": null,
      "outputs": []
    },
    {
      "cell_type": "code",
      "source": [
        "query.stop()"
      ],
      "metadata": {
        "id": "ZfzUq4IWlwAv"
      },
      "id": "ZfzUq4IWlwAv",
      "execution_count": null,
      "outputs": []
    },
    {
      "cell_type": "code",
      "source": [
        ""
      ],
      "metadata": {
        "id": "t3lre6dLlv92"
      },
      "id": "t3lre6dLlv92",
      "execution_count": null,
      "outputs": []
    },
    {
      "cell_type": "markdown",
      "id": "16908fa6",
      "metadata": {
        "id": "16908fa6"
      },
      "source": [
        "### Remove the first row from the data (hint: drop the rows where ALL values are null), then add a new column \"diff\", which is the difference between high and low columns"
      ]
    },
    {
      "cell_type": "code",
      "execution_count": null,
      "id": "9f2eaa25",
      "metadata": {
        "id": "9f2eaa25"
      },
      "outputs": [],
      "source": [
        "# df3=df.dropna(how='all')\n",
        "from pyspark.sql.functions import col\n",
        "df3 = df.where(col(\"ID\").isNotNull())\n",
        "df3=df3.withColumn('diff',df['High']-df['Low'])"
      ]
    },
    {
      "cell_type": "markdown",
      "id": "1f14581b",
      "metadata": {
        "id": "1f14581b"
      },
      "source": [
        "### Create a new write stream using the new generated dataframe and call the generate table \"modified_data\""
      ]
    },
    {
      "cell_type": "code",
      "execution_count": null,
      "id": "9fb1be0e",
      "metadata": {
        "id": "9fb1be0e"
      },
      "outputs": [],
      "source": [
        ""
      ]
    },
    {
      "cell_type": "code",
      "source": [
        "writer2 = df3.writeStream.outputMode(\"append\") \\\n",
        "    .queryName('modified_data')\\\n",
        "    .format(\"memory\") \\\n",
        "    .option(\"truncate\", False) \\\n",
        "    .option(\"numRows\", 20) "
      ],
      "metadata": {
        "id": "XMyeRVZ1H6K2"
      },
      "execution_count": null,
      "outputs": [],
      "id": "XMyeRVZ1H6K2"
    },
    {
      "cell_type": "code",
      "source": [
        "q=writer2.start()"
      ],
      "metadata": {
        "id": "wagKCJOtH6K7"
      },
      "execution_count": null,
      "outputs": [],
      "id": "wagKCJOtH6K7"
    },
    {
      "cell_type": "code",
      "execution_count": null,
      "id": "969acbbc",
      "metadata": {
        "id": "969acbbc",
        "colab": {
          "base_uri": "https://localhost:8080/"
        },
        "outputId": "ce9be73c-2486-4e6a-b0e2-652f8cfacc79"
      },
      "outputs": [
        {
          "output_type": "stream",
          "name": "stdout",
          "text": [
            "+---+----------+------------+------------+------------+------------+------------+--------+------------------+\n",
            "| ID|      Date|        Open|        High|         Low|       Close|   Adj Close|  Volume|              diff|\n",
            "+---+----------+------------+------------+------------+------------+------------+--------+------------------+\n",
            "|240|2000-12-05|26585.300781|27367.300781|26372.099609|27011.800781|25526.091797| 91019.0|  995.201172000001|\n",
            "|241|2000-12-06|27011.800781|27509.400391|26798.599609|26869.699219|25391.804688|105791.0| 710.8007819999984|\n",
            "|242|2000-12-07|27011.800781|27011.800781|26478.699219|26656.400391|25190.236328| 40656.0| 533.1015620000035|\n",
            "|243|2000-12-08|26656.400391|27722.699219|26656.400391|27651.599609|26130.699219|149964.0| 1066.298827999999|\n",
            "|244|2000-12-11|27687.099609|     28860.0|27651.599609|28078.099609|26533.740234|159671.0|1208.4003909999992|\n",
            "|245|2000-12-12|28042.599609|28078.099609|27438.300781|27935.900391|26399.361328| 74560.0|  639.798827999999|\n",
            "|246|2000-12-13|27651.599609|     29286.5|27651.599609|28469.099609|26903.234375|270385.0|1634.9003909999992|\n",
            "|247|2000-12-14|28469.099609|29784.099609|28291.300781|28362.400391| 26802.40625|256317.0| 1492.798827999999|\n",
            "|248|2000-12-15|28362.400391|28895.599609|27793.800781|27935.900391|26399.361328|108886.0| 1101.798827999999|\n",
            "|249|2000-12-18|     27580.5|     28433.5|27367.300781|28291.300781|26735.216797| 92848.0|1066.1992189999983|\n",
            "|250|2000-12-19|27722.699219|28788.900391|27651.599609|27651.599609|26130.699219|115779.0|1137.3007819999984|\n",
            "|251|2000-12-20|27402.800781|27793.800781|     27154.0|27722.699219|26197.890625| 99601.0| 639.8007810000017|\n",
            "|252|2000-12-21|27367.300781|27793.800781|27082.900391|27722.699219|26197.890625|129706.0| 710.9003900000025|\n",
            "|253|2000-12-22|27687.099609|     28007.0|27509.400391|     28007.0|26466.550781| 77233.0| 497.5996090000008|\n",
            "|254|2000-12-26|     27971.5|31987.699219|27473.900391|     28433.5|26869.591797|131535.0| 4513.798827999999|\n",
            "|255|2001-01-02|27367.300781|27367.300781|25945.599609|26656.400391|25190.236328| 64150.0| 1421.701172000001|\n",
            "|256|2001-01-03|26585.300781|26656.400391|26016.699219|26656.400391|25190.236328| 37421.0|  639.701172000001|\n",
            "|257|2001-01-04|27367.300781|28078.099609|26905.199219|27082.900391|25593.277344|131254.0|1172.9003900000025|\n",
            "|258|2001-01-05|26940.800781|26940.800781|26194.400391|26585.300781|25123.048828| 90316.0| 746.4003900000025|\n",
            "|259|2001-01-08|26514.199219|27011.800781|26052.199219|26052.199219|24619.269531|102414.0| 959.6015620000035|\n",
            "+---+----------+------------+------------+------------+------------+------------+--------+------------------+\n",
            "only showing top 20 rows\n",
            "\n"
          ]
        }
      ],
      "source": [
        "spark.sql('SELECT * FROM modified_data').show()"
      ]
    },
    {
      "cell_type": "code",
      "execution_count": null,
      "id": "b3bcedd4",
      "metadata": {
        "id": "b3bcedd4"
      },
      "outputs": [],
      "source": [
        "q.stop()"
      ]
    },
    {
      "cell_type": "code",
      "execution_count": null,
      "id": "453fbe76",
      "metadata": {
        "id": "453fbe76"
      },
      "outputs": [],
      "source": [
        ""
      ]
    },
    {
      "cell_type": "markdown",
      "id": "e16c3036",
      "metadata": {
        "id": "e16c3036"
      },
      "source": [
        "### Write the generated data into files instead of the memory. "
      ]
    },
    {
      "cell_type": "code",
      "execution_count": null,
      "id": "6441b76a",
      "metadata": {
        "id": "6441b76a"
      },
      "outputs": [],
      "source": [
        ""
      ]
    },
    {
      "cell_type": "code",
      "source": [
        "w = df3.writeStream.format('parquet')\\\n",
        ".outputMode('append')\\\n",
        ".option('path','OutStream5/')\\\n",
        ".option(\"checkpointLocation\", \"chkpnt23\")"
      ],
      "metadata": {
        "id": "7YdPDkcAL2yj"
      },
      "id": "7YdPDkcAL2yj",
      "execution_count": null,
      "outputs": []
    },
    {
      "cell_type": "code",
      "source": [
        "q2=w.start()"
      ],
      "metadata": {
        "id": "Wq0HQICjL2vi"
      },
      "id": "Wq0HQICjL2vi",
      "execution_count": null,
      "outputs": []
    },
    {
      "cell_type": "code",
      "source": [
        "q2.stop()"
      ],
      "metadata": {
        "id": "--gDSLOrR4_h"
      },
      "id": "--gDSLOrR4_h",
      "execution_count": null,
      "outputs": []
    },
    {
      "cell_type": "code",
      "source": [
        "df5 = spark.readStream.format('csv').schema(recordSchema).option(\"dateFormat\", \"m/d/YYYY\").load('/content/OutStream2/')"
      ],
      "metadata": {
        "id": "E9AUMtN9R48n"
      },
      "id": "E9AUMtN9R48n",
      "execution_count": null,
      "outputs": []
    },
    {
      "cell_type": "code",
      "source": [
        "pla=df.writeStream.outputMode('append').format('memory').queryName('pla')\\\n",
        " .option(\"truncate\", False) \\\n",
        "    .option(\"numRows\", 100) \\\n",
        ".option(\"checkpointLocation\", \"pp\")"
      ],
      "metadata": {
        "id": "EFgQbv3wZVMj"
      },
      "id": "EFgQbv3wZVMj",
      "execution_count": null,
      "outputs": []
    },
    {
      "cell_type": "code",
      "source": [
        "qq=pla.start()"
      ],
      "metadata": {
        "id": "bVv0QPstZpV-"
      },
      "id": "bVv0QPstZpV-",
      "execution_count": null,
      "outputs": []
    },
    {
      "cell_type": "code",
      "source": [
        "spark.sql('SELECT * FROM pla').show() ## why this Date word? && why to show only 20 rows even if set to show 100 "
      ],
      "metadata": {
        "colab": {
          "base_uri": "https://localhost:8080/"
        },
        "id": "Q6qVF4InZw6E",
        "outputId": "651bc635-4a74-4200-8d8b-cf7ea8cde023"
      },
      "id": "Q6qVF4InZw6E",
      "execution_count": null,
      "outputs": [
        {
          "output_type": "stream",
          "name": "stdout",
          "text": [
            "+----+----------+------------+------------+------------+------------+------------+--------+\n",
            "|  ID|      Date|        Open|        High|         Low|       Close|   Adj Close|  Volume|\n",
            "+----+----------+------------+------------+------------+------------+------------+--------+\n",
            "|null|      Date|        null|        null|        null|        null|        null|    null|\n",
            "| 240|2000-12-05|26585.300781|27367.300781|26372.099609|27011.800781|25526.091797| 91019.0|\n",
            "| 241|2000-12-06|27011.800781|27509.400391|26798.599609|26869.699219|25391.804688|105791.0|\n",
            "| 242|2000-12-07|27011.800781|27011.800781|26478.699219|26656.400391|25190.236328| 40656.0|\n",
            "| 243|2000-12-08|26656.400391|27722.699219|26656.400391|27651.599609|26130.699219|149964.0|\n",
            "| 244|2000-12-11|27687.099609|     28860.0|27651.599609|28078.099609|26533.740234|159671.0|\n",
            "| 245|2000-12-12|28042.599609|28078.099609|27438.300781|27935.900391|26399.361328| 74560.0|\n",
            "| 246|2000-12-13|27651.599609|     29286.5|27651.599609|28469.099609|26903.234375|270385.0|\n",
            "| 247|2000-12-14|28469.099609|29784.099609|28291.300781|28362.400391| 26802.40625|256317.0|\n",
            "| 248|2000-12-15|28362.400391|28895.599609|27793.800781|27935.900391|26399.361328|108886.0|\n",
            "| 249|2000-12-18|     27580.5|     28433.5|27367.300781|28291.300781|26735.216797| 92848.0|\n",
            "| 250|2000-12-19|27722.699219|28788.900391|27651.599609|27651.599609|26130.699219|115779.0|\n",
            "| 251|2000-12-20|27402.800781|27793.800781|     27154.0|27722.699219|26197.890625| 99601.0|\n",
            "| 252|2000-12-21|27367.300781|27793.800781|27082.900391|27722.699219|26197.890625|129706.0|\n",
            "| 253|2000-12-22|27687.099609|     28007.0|27509.400391|     28007.0|26466.550781| 77233.0|\n",
            "| 254|2000-12-26|     27971.5|31987.699219|27473.900391|     28433.5|26869.591797|131535.0|\n",
            "| 255|2001-01-02|27367.300781|27367.300781|25945.599609|26656.400391|25190.236328| 64150.0|\n",
            "| 256|2001-01-03|26585.300781|26656.400391|26016.699219|26656.400391|25190.236328| 37421.0|\n",
            "| 257|2001-01-04|27367.300781|28078.099609|26905.199219|27082.900391|25593.277344|131254.0|\n",
            "| 258|2001-01-05|26940.800781|26940.800781|26194.400391|26585.300781|25123.048828| 90316.0|\n",
            "+----+----------+------------+------------+------------+------------+------------+--------+\n",
            "only showing top 20 rows\n",
            "\n"
          ]
        }
      ]
    },
    {
      "cell_type": "code",
      "source": [
        "qq.stop()"
      ],
      "metadata": {
        "id": "tXLjQLydZw2_"
      },
      "id": "tXLjQLydZw2_",
      "execution_count": null,
      "outputs": []
    },
    {
      "cell_type": "code",
      "source": [
        ""
      ],
      "metadata": {
        "id": "nNO5JUilZwz4"
      },
      "id": "nNO5JUilZwz4",
      "execution_count": null,
      "outputs": []
    },
    {
      "cell_type": "markdown",
      "id": "72f07e3f",
      "metadata": {
        "id": "72f07e3f"
      },
      "source": [
        "### Stop the query. Now, try reading the generated parquet files into a normal dataframe\n",
        "- Create a schema and use it to read the data.\n",
        "- Show the output."
      ]
    },
    {
      "cell_type": "code",
      "source": [
        "finalDF=spark.read.parquet('/content/OutStream2/part-00001-2bea4382-7718-40b0-a39d-6545a3804f75-c000.snappy.parquet')"
      ],
      "metadata": {
        "id": "sl06EL1YOmt_"
      },
      "id": "sl06EL1YOmt_",
      "execution_count": null,
      "outputs": []
    },
    {
      "cell_type": "code",
      "source": [
        "finalDF.show()"
      ],
      "metadata": {
        "colab": {
          "base_uri": "https://localhost:8080/"
        },
        "id": "QcM9ZI0ldF1b",
        "outputId": "2617b78d-b7a8-4004-a5d6-5b022cfca947"
      },
      "id": "QcM9ZI0ldF1b",
      "execution_count": null,
      "outputs": [
        {
          "output_type": "stream",
          "name": "stdout",
          "text": [
            "+---+----------+------------+------------+------------+------------+------------+--------+------------------+\n",
            "| ID|      Date|        Open|        High|         Low|       Close|   Adj Close|  Volume|              diff|\n",
            "+---+----------+------------+------------+------------+------------+------------+--------+------------------+\n",
            "|280|2001-02-09|27758.199219|28362.400391|27722.699219|28362.400391| 26802.40625| 34044.0|  639.701172000001|\n",
            "|281|2001-02-12|28362.400391|29499.800781|28291.300781|28504.599609| 26936.78125|196107.0|            1208.5|\n",
            "|282|2001-02-13|28575.699219|28575.699219|27829.300781|     28007.0|26466.550781| 45017.0| 746.3984379999965|\n",
            "|283|2001-02-14|27722.699219|28149.199219|27509.400391|28078.099609|26533.740234| 51489.0|  639.798827999999|\n",
            "|284|2001-02-15|27864.800781|28078.099609|27509.400391|27864.800781|26332.175781| 57678.0| 568.6992180000016|\n",
            "|285|2001-02-16|27367.300781|27722.699219|27367.300781|27651.599609|26130.699219| 46705.0|355.39843799999653|\n",
            "|286|2001-02-19|27296.199219|     28007.0|27082.900391|27864.800781|26332.175781| 85111.0| 924.0996090000008|\n",
            "|287|2001-02-20|     27580.5|     28398.0|     27580.5|27864.800781|26332.175781| 95521.0|             817.5|\n",
            "|288|2001-02-21|27864.800781|28149.199219|27722.699219|     28007.0|26466.550781| 79484.0|             426.5|\n",
            "|289|2001-02-22|28078.099609|28078.099609|27296.199219|27402.800781|25895.582031| 41922.0| 781.9003900000025|\n",
            "|290|2001-02-23|27509.400391|28291.300781|27331.699219|27722.699219|26197.890625| 82719.0| 959.6015620000035|\n",
            "|291|2001-02-26|27722.699219|     28433.5|     27580.5|     28433.5|26869.591797| 74279.0|             853.0|\n",
            "|292|2001-02-27|28575.699219|28966.599609|28149.199219|     28433.5|26869.591797|102274.0| 817.4003900000025|\n",
            "|293|2001-02-28|     28433.5|28717.800781|28078.099609|28717.800781|27138.255859| 47831.0|  639.701172000001|\n",
            "|294|2001-03-02|     28860.0|30423.900391|28717.800781|29144.300781|27541.296875|209330.0|1706.0996099999975|\n",
            "|295|2001-03-05|29499.800781|29606.400391|28575.699219|29215.400391|27608.488281| 81313.0| 1030.701172000001|\n",
            "|296|2001-03-06|29499.800781|29570.900391|28717.800781|28717.800781|27138.255859| 61617.0| 853.0996099999975|\n",
            "|297|2001-03-07|28646.800781|29073.300781|28326.900391|     28433.5|26869.591797| 59929.0| 746.4003900000025|\n",
            "|298|2001-03-08|     28433.5|28682.300781|28291.300781|28575.699219|27003.972656|135615.0|             391.0|\n",
            "|299|2001-03-09|28717.800781|28931.099609|28291.300781|28504.599609| 26936.78125| 77233.0|  639.798827999999|\n",
            "+---+----------+------------+------------+------------+------------+------------+--------+------------------+\n",
            "only showing top 20 rows\n",
            "\n"
          ]
        }
      ]
    },
    {
      "cell_type": "code",
      "source": [
        "\n"
      ],
      "metadata": {
        "id": "3rBBlkKAc3X5"
      },
      "id": "3rBBlkKAc3X5",
      "execution_count": null,
      "outputs": []
    },
    {
      "cell_type": "code",
      "source": [
        ""
      ],
      "metadata": {
        "id": "1MGK4LYPc3Ha"
      },
      "id": "1MGK4LYPc3Ha",
      "execution_count": null,
      "outputs": []
    },
    {
      "cell_type": "code",
      "execution_count": null,
      "id": "c71ca2ae",
      "metadata": {
        "id": "c71ca2ae"
      },
      "outputs": [],
      "source": [
        ""
      ]
    },
    {
      "cell_type": "markdown",
      "id": "4814d697",
      "metadata": {
        "id": "4814d697"
      },
      "source": [
        "### Sort the dataframe based on the ID"
      ]
    },
    {
      "cell_type": "code",
      "source": [
        ""
      ],
      "metadata": {
        "id": "QZ2mOfyhUjiC"
      },
      "id": "QZ2mOfyhUjiC",
      "execution_count": null,
      "outputs": []
    },
    {
      "cell_type": "code",
      "source": [
        "finalDFSorted = finalDF.sort('ID')\n",
        "finalDFSorted.show()"
      ],
      "metadata": {
        "colab": {
          "base_uri": "https://localhost:8080/"
        },
        "id": "woTHnrElcYch",
        "outputId": "56ec1a6d-2ff5-42f3-ba04-adbffe45fee7"
      },
      "id": "woTHnrElcYch",
      "execution_count": null,
      "outputs": [
        {
          "output_type": "stream",
          "name": "stdout",
          "text": [
            "+---+----------+------------+------------+------------+------------+------------+--------+------------------+\n",
            "| ID|      Date|        Open|        High|         Low|       Close|   Adj Close|  Volume|              diff|\n",
            "+---+----------+------------+------------+------------+------------+------------+--------+------------------+\n",
            "|  0|2000-01-04|22817.900391|25696.800781|22817.900391|24879.300781|23510.880859|108745.0|2878.9003900000025|\n",
            "|  1|2000-01-05|24523.900391|26229.900391|23670.900391|24417.300781|23074.294922|175990.0|            2559.0|\n",
            "| 10|2000-01-18|23457.599609|     23742.0|22746.800781|23422.099609|22133.832031| 27995.0| 995.1992189999983|\n",
            "| 11|2000-01-19|22817.900391|23173.300781|     22036.0|     22036.0|20823.970703| 44173.0|1137.3007810000017|\n",
            "| 12|2000-01-20|21325.099609|22000.400391|     20756.5|21680.599609|20488.117188| 47550.0|1243.9003909999992|\n",
            "| 13|2000-01-21|21680.599609|22391.400391|20863.099609|21680.599609|20488.117188| 80750.0|1528.3007819999984|\n",
            "| 14|2000-01-24|20969.699219|21822.699219|20969.699219|20969.699219|19816.320313| 79906.0|             853.0|\n",
            "| 15|2000-01-25|20258.900391|20934.199219|     19548.0|20116.699219|19010.236328|170925.0|1386.1992189999983|\n",
            "| 16|2000-01-26|20223.300781|20543.199219|19761.300781|     20330.0|19211.804688| 59929.0| 781.8984379999965|\n",
            "| 17|2000-01-27|     20401.0|22746.800781|     20330.0|21040.800781|19883.511719|139132.0|2416.8007810000017|\n",
            "| 18|2000-01-28|21431.800781|22107.099609|21040.800781|21964.900391|20756.783203| 78640.0| 1066.298827999999|\n",
            "| 19|2000-01-31|21325.099609|21893.800781|     21183.0|21467.300781|20286.552734| 45861.0| 710.8007810000017|\n",
            "|  2|2000-01-06|24381.699219|24666.099609|22746.800781|22817.900391|21562.865234| 71746.0| 1919.298827999999|\n",
            "| 20|2000-02-01|22249.199219|22675.699219|21751.599609|21822.699219|20622.402344| 64009.0| 924.0996099999975|\n",
            "|200|2000-10-10|29428.699219|30210.599609|28149.199219|29997.400391|28347.476563|212425.0|2061.4003900000025|\n",
            "|201|2000-10-11|29499.800781|29819.599609|27011.800781|27722.699219|26197.890625|161078.0| 2807.798827999999|\n",
            "|202|2000-10-12|26443.199219|27722.699219|26443.199219|26798.599609|25324.617188|143211.0|            1279.5|\n",
            "|203|2000-10-13|25376.900391|25732.300781|     23315.5|24879.300781|23510.880859|177537.0|2416.8007810000017|\n",
            "|204|2000-10-16|24879.300781|24879.300781|24879.300781|24879.300781|23510.880859|     0.0|               0.0|\n",
            "|205|2000-10-17|26656.400391|27082.900391|24879.300781|24879.300781|23510.880859|112262.0|2203.5996099999975|\n",
            "+---+----------+------------+------------+------------+------------+------------+--------+------------------+\n",
            "only showing top 20 rows\n",
            "\n"
          ]
        }
      ]
    },
    {
      "cell_type": "code",
      "execution_count": null,
      "id": "e218d5ae",
      "metadata": {
        "id": "e218d5ae"
      },
      "outputs": [],
      "source": [
        ""
      ]
    }
  ],
  "metadata": {
    "kernelspec": {
      "display_name": "Python 3 (ipykernel)",
      "language": "python",
      "name": "python3"
    },
    "language_info": {
      "codemirror_mode": {
        "name": "ipython",
        "version": 3
      },
      "file_extension": ".py",
      "mimetype": "text/x-python",
      "name": "python",
      "nbconvert_exporter": "python",
      "pygments_lexer": "ipython3",
      "version": "3.9.12"
    },
    "colab": {
      "name": "AsmaaSaeedStreaming P.S._Student.ipynb",
      "provenance": [],
      "include_colab_link": true
    }
  },
  "nbformat": 4,
  "nbformat_minor": 5
}